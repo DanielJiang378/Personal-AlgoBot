{
 "cells": [
  {
   "cell_type": "code",
   "execution_count": 2,
   "metadata": {},
   "outputs": [],
   "source": [
    "from IPython.display import display, Math, Latex\n",
    "\n",
    "import pandas as pd\n",
    "import numpy as np\n",
    "import numpy_financial as npf\n",
    "import yfinance as yf\n",
    "import matplotlib.pyplot as plt\n",
    "from datetime import datetime"
   ]
  },
  {
   "cell_type": "markdown",
   "metadata": {},
   "source": [
    "## Group Assignment\n",
    "### Team Number: XX\n",
    "### Team Member Names:\n",
    "### Team Strategy Chosen: __________(RISKY OR SAFE)"
   ]
  },
  {
   "cell_type": "code",
   "execution_count": 3,
   "metadata": {},
   "outputs": [],
   "source": [
    "ggg\n",
    "\n",
    "## Assign csv data to a variable\n",
    "\n",
    "\n",
    "col_names=['Ticker']\n",
    "tick_data = pd.read_csv(\"Tickers.csv\", names=col_names, header=None)"
   ]
  },
  {
   "cell_type": "code",
   "execution_count": null,
   "metadata": {
    "scrolled": true
   },
   "outputs": [],
   "source": [
    "temp_list = []\n",
    "tick_list = []\n",
    "for x in range(len(tick_data.index)):\n",
    "    tick = yf.Ticker(tick_data['Ticker'].iloc[x])\n",
    "    data = pd.DataFrame(tick.info.keys())\n",
    "    data.columns = ['Value']\n",
    "    if data[data.Value == 'country'].empty == False :\n",
    "        temp_list.append(tick_data['Ticker'].iloc[x])\n",
    "print(temp_list)\n",
    "start_date = '2021-07-02'\n",
    "end_date = '2021-10-22'\n",
    "for x in range(len(tick_list.index)):\n",
    "    tick = yf.Ticker(tick_list[x])\n",
    "    tick_hist = tick.history(start=start_date, end=end_date)\n",
    "    avg_volume = tick_hist['Volume'].sum(axis = 0, skipna = True)/ len(tick_hist.index)\n",
    "    if avg_volume >= 10000:\n",
    "        tick_list.append(tick)\n",
    "print(tick_list)\n",
    "    \n",
    "    "
   ]
  },
  {
   "cell_type": "code",
   "execution_count": null,
   "metadata": {},
   "outputs": [],
   "source": [
    "for x in range (len(tick_list)):\n",
    "    tick = yf.Ticker(tick_data['Ticker'].iloc[x])\n",
    "    "
   ]
  },
  {
   "cell_type": "markdown",
   "metadata": {},
   "source": [
    "## Contribution Declaration\n",
    "\n",
    "The following team members made a meaningful contribution to this assignment:\n",
    "\n",
    "Insert Names Here."
   ]
  }
 ],
 "metadata": {
  "kernelspec": {
   "display_name": "Python 3",
   "language": "python",
   "name": "python3"
  },
  "language_info": {
   "codemirror_mode": {
    "name": "ipython",
    "version": 3
   },
   "file_extension": ".py",
   "mimetype": "text/x-python",
   "name": "python",
   "nbconvert_exporter": "python",
   "pygments_lexer": "ipython3",
   "version": "3.8.8"
  }
 },
 "nbformat": 4,
 "nbformat_minor": 2
}
