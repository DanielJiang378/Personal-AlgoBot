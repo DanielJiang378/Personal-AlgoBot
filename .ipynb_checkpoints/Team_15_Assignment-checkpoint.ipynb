{
 "cells": [
  {
   "cell_type": "code",
   "execution_count": 51,
   "metadata": {},
   "outputs": [],
   "source": [
    "from IPython.display import display, Math, Latex\n",
    "\n",
    "import pandas as pd\n",
    "import numpy as np\n",
    "import numpy_financial as npf\n",
    "import yfinance as yf\n",
    "import matplotlib.pyplot as plt\n",
    "from datetime import datetime\n",
    "import concurrent.futures\n",
    "import time\n",
    "import random"
   ]
  },
  {
   "cell_type": "markdown",
   "metadata": {},
   "source": [
    "## Group Assignment\n",
    "### Team Number: 15\n",
    "### Team Member Names: Daniel Eric Jodie\n",
    "### Team Strategy Chosen: SAFE"
   ]
  },
  {
   "cell_type": "code",
   "execution_count": 52,
   "metadata": {},
   "outputs": [],
   "source": [
    "# Define a function that consumes a stock name and returns a temporary\n",
    "# Dataframe with the Open Price, High, Low, Close Price, and Volume of the stock.\n",
    "# It also returns the stock name and the sector name for the stock. The function\n",
    "# returns an empty DataFrame if the stock meets the none of the requirements \n",
    "def get_info(stock):\n",
    "    # Create an empty DataFrame\n",
    "    temp_frame=pd.DataFrame()\n",
    "    # Obtain the ticker for the stock\n",
    "    tick = yf.Ticker(stock)\n",
    "    # Extract the history of the stock\n",
    "    tick_hist = tick.history(start=start_date,end=end_date)\n",
    "    # If the number of index for the stock history is not 0\n",
    "    if len(tick_hist.index) != 0:\n",
    "        #  Assign the stock info to tick_info variable\n",
    "        tick_info = tick.info\n",
    "        # If the stock is an U.S stock\n",
    "        if tick_info['currency'] == 'USD':\n",
    "            # If the average volume of the stock is greater equal to 10000\n",
    "            if tick_hist['Volume'].mean()>= 10000:\n",
    "                # For loop that iterates and obtains the stock's\n",
    "                # Open Price, High, Low, Close Price and Volume\n",
    "                for need in hist_need:\n",
    "                    # Create a column in the DataFrame for each of the needs\n",
    "                    temp_frame[need+' of '+stock]=tick_hist[need] \n",
    "                # Return the DataFrame, the stock name, and the sector name\n",
    "                return (temp_frame,stock, tick_info['sector'])  \n",
    "    # Returns an empty DataFrame if the stock met no requirements\n",
    "    return pd.DataFrame(),'',''"
   ]
  },
  {
   "cell_type": "code",
   "execution_count": 72,
   "metadata": {},
   "outputs": [
    {
     "ename": "FileNotFoundError",
     "evalue": "[Errno 2] No such file or directory: 'Tickers.csv'",
     "output_type": "error",
     "traceback": [
      "\u001b[0;31m---------------------------------------------------------------------------\u001b[0m",
      "\u001b[0;31mFileNotFoundError\u001b[0m                         Traceback (most recent call last)",
      "\u001b[0;32m/var/folders/7v/tn6bg1v50_j881wkhfg36bxw0000gn/T/ipykernel_36446/3019956869.py\u001b[0m in \u001b[0;36m<module>\u001b[0;34m\u001b[0m\n\u001b[1;32m     18\u001b[0m \u001b[0;34m\u001b[0m\u001b[0m\n\u001b[1;32m     19\u001b[0m \u001b[0;31m# Extract tickers from the CSV file\u001b[0m\u001b[0;34m\u001b[0m\u001b[0;34m\u001b[0m\u001b[0;34m\u001b[0m\u001b[0m\n\u001b[0;32m---> 20\u001b[0;31m \u001b[0mtick_data\u001b[0m \u001b[0;34m=\u001b[0m \u001b[0mpd\u001b[0m\u001b[0;34m.\u001b[0m\u001b[0mread_csv\u001b[0m\u001b[0;34m(\u001b[0m\u001b[0;34m\"Tickers.csv\"\u001b[0m\u001b[0;34m,\u001b[0m\u001b[0mnames\u001b[0m\u001b[0;34m=\u001b[0m\u001b[0;34m[\u001b[0m\u001b[0;34m\"Tickers\"\u001b[0m\u001b[0;34m]\u001b[0m\u001b[0;34m,\u001b[0m\u001b[0mkeep_default_na\u001b[0m\u001b[0;34m=\u001b[0m\u001b[0;32mFalse\u001b[0m\u001b[0;34m)\u001b[0m\u001b[0;34m\u001b[0m\u001b[0;34m\u001b[0m\u001b[0m\n\u001b[0m\u001b[1;32m     21\u001b[0m \u001b[0;34m\u001b[0m\u001b[0m\n\u001b[1;32m     22\u001b[0m \u001b[0;31m# Create an empty dynamic array to store ticker names\u001b[0m\u001b[0;34m\u001b[0m\u001b[0;34m\u001b[0m\u001b[0;34m\u001b[0m\u001b[0m\n",
      "\u001b[0;32m~/opt/anaconda3/envs/venv/lib/python3.9/site-packages/pandas/util/_decorators.py\u001b[0m in \u001b[0;36mwrapper\u001b[0;34m(*args, **kwargs)\u001b[0m\n\u001b[1;32m    309\u001b[0m                     \u001b[0mstacklevel\u001b[0m\u001b[0;34m=\u001b[0m\u001b[0mstacklevel\u001b[0m\u001b[0;34m,\u001b[0m\u001b[0;34m\u001b[0m\u001b[0;34m\u001b[0m\u001b[0m\n\u001b[1;32m    310\u001b[0m                 )\n\u001b[0;32m--> 311\u001b[0;31m             \u001b[0;32mreturn\u001b[0m \u001b[0mfunc\u001b[0m\u001b[0;34m(\u001b[0m\u001b[0;34m*\u001b[0m\u001b[0margs\u001b[0m\u001b[0;34m,\u001b[0m \u001b[0;34m**\u001b[0m\u001b[0mkwargs\u001b[0m\u001b[0;34m)\u001b[0m\u001b[0;34m\u001b[0m\u001b[0;34m\u001b[0m\u001b[0m\n\u001b[0m\u001b[1;32m    312\u001b[0m \u001b[0;34m\u001b[0m\u001b[0m\n\u001b[1;32m    313\u001b[0m         \u001b[0;32mreturn\u001b[0m \u001b[0mwrapper\u001b[0m\u001b[0;34m\u001b[0m\u001b[0;34m\u001b[0m\u001b[0m\n",
      "\u001b[0;32m~/opt/anaconda3/envs/venv/lib/python3.9/site-packages/pandas/io/parsers/readers.py\u001b[0m in \u001b[0;36mread_csv\u001b[0;34m(filepath_or_buffer, sep, delimiter, header, names, index_col, usecols, squeeze, prefix, mangle_dupe_cols, dtype, engine, converters, true_values, false_values, skipinitialspace, skiprows, skipfooter, nrows, na_values, keep_default_na, na_filter, verbose, skip_blank_lines, parse_dates, infer_datetime_format, keep_date_col, date_parser, dayfirst, cache_dates, iterator, chunksize, compression, thousands, decimal, lineterminator, quotechar, quoting, doublequote, escapechar, comment, encoding, encoding_errors, dialect, error_bad_lines, warn_bad_lines, on_bad_lines, delim_whitespace, low_memory, memory_map, float_precision, storage_options)\u001b[0m\n\u001b[1;32m    584\u001b[0m     \u001b[0mkwds\u001b[0m\u001b[0;34m.\u001b[0m\u001b[0mupdate\u001b[0m\u001b[0;34m(\u001b[0m\u001b[0mkwds_defaults\u001b[0m\u001b[0;34m)\u001b[0m\u001b[0;34m\u001b[0m\u001b[0;34m\u001b[0m\u001b[0m\n\u001b[1;32m    585\u001b[0m \u001b[0;34m\u001b[0m\u001b[0m\n\u001b[0;32m--> 586\u001b[0;31m     \u001b[0;32mreturn\u001b[0m \u001b[0m_read\u001b[0m\u001b[0;34m(\u001b[0m\u001b[0mfilepath_or_buffer\u001b[0m\u001b[0;34m,\u001b[0m \u001b[0mkwds\u001b[0m\u001b[0;34m)\u001b[0m\u001b[0;34m\u001b[0m\u001b[0;34m\u001b[0m\u001b[0m\n\u001b[0m\u001b[1;32m    587\u001b[0m \u001b[0;34m\u001b[0m\u001b[0m\n\u001b[1;32m    588\u001b[0m \u001b[0;34m\u001b[0m\u001b[0m\n",
      "\u001b[0;32m~/opt/anaconda3/envs/venv/lib/python3.9/site-packages/pandas/io/parsers/readers.py\u001b[0m in \u001b[0;36m_read\u001b[0;34m(filepath_or_buffer, kwds)\u001b[0m\n\u001b[1;32m    480\u001b[0m \u001b[0;34m\u001b[0m\u001b[0m\n\u001b[1;32m    481\u001b[0m     \u001b[0;31m# Create the parser.\u001b[0m\u001b[0;34m\u001b[0m\u001b[0;34m\u001b[0m\u001b[0;34m\u001b[0m\u001b[0m\n\u001b[0;32m--> 482\u001b[0;31m     \u001b[0mparser\u001b[0m \u001b[0;34m=\u001b[0m \u001b[0mTextFileReader\u001b[0m\u001b[0;34m(\u001b[0m\u001b[0mfilepath_or_buffer\u001b[0m\u001b[0;34m,\u001b[0m \u001b[0;34m**\u001b[0m\u001b[0mkwds\u001b[0m\u001b[0;34m)\u001b[0m\u001b[0;34m\u001b[0m\u001b[0;34m\u001b[0m\u001b[0m\n\u001b[0m\u001b[1;32m    483\u001b[0m \u001b[0;34m\u001b[0m\u001b[0m\n\u001b[1;32m    484\u001b[0m     \u001b[0;32mif\u001b[0m \u001b[0mchunksize\u001b[0m \u001b[0;32mor\u001b[0m \u001b[0miterator\u001b[0m\u001b[0;34m:\u001b[0m\u001b[0;34m\u001b[0m\u001b[0;34m\u001b[0m\u001b[0m\n",
      "\u001b[0;32m~/opt/anaconda3/envs/venv/lib/python3.9/site-packages/pandas/io/parsers/readers.py\u001b[0m in \u001b[0;36m__init__\u001b[0;34m(self, f, engine, **kwds)\u001b[0m\n\u001b[1;32m    809\u001b[0m             \u001b[0mself\u001b[0m\u001b[0;34m.\u001b[0m\u001b[0moptions\u001b[0m\u001b[0;34m[\u001b[0m\u001b[0;34m\"has_index_names\"\u001b[0m\u001b[0;34m]\u001b[0m \u001b[0;34m=\u001b[0m \u001b[0mkwds\u001b[0m\u001b[0;34m[\u001b[0m\u001b[0;34m\"has_index_names\"\u001b[0m\u001b[0;34m]\u001b[0m\u001b[0;34m\u001b[0m\u001b[0;34m\u001b[0m\u001b[0m\n\u001b[1;32m    810\u001b[0m \u001b[0;34m\u001b[0m\u001b[0m\n\u001b[0;32m--> 811\u001b[0;31m         \u001b[0mself\u001b[0m\u001b[0;34m.\u001b[0m\u001b[0m_engine\u001b[0m \u001b[0;34m=\u001b[0m \u001b[0mself\u001b[0m\u001b[0;34m.\u001b[0m\u001b[0m_make_engine\u001b[0m\u001b[0;34m(\u001b[0m\u001b[0mself\u001b[0m\u001b[0;34m.\u001b[0m\u001b[0mengine\u001b[0m\u001b[0;34m)\u001b[0m\u001b[0;34m\u001b[0m\u001b[0;34m\u001b[0m\u001b[0m\n\u001b[0m\u001b[1;32m    812\u001b[0m \u001b[0;34m\u001b[0m\u001b[0m\n\u001b[1;32m    813\u001b[0m     \u001b[0;32mdef\u001b[0m \u001b[0mclose\u001b[0m\u001b[0;34m(\u001b[0m\u001b[0mself\u001b[0m\u001b[0;34m)\u001b[0m\u001b[0;34m:\u001b[0m\u001b[0;34m\u001b[0m\u001b[0;34m\u001b[0m\u001b[0m\n",
      "\u001b[0;32m~/opt/anaconda3/envs/venv/lib/python3.9/site-packages/pandas/io/parsers/readers.py\u001b[0m in \u001b[0;36m_make_engine\u001b[0;34m(self, engine)\u001b[0m\n\u001b[1;32m   1038\u001b[0m             )\n\u001b[1;32m   1039\u001b[0m         \u001b[0;31m# error: Too many arguments for \"ParserBase\"\u001b[0m\u001b[0;34m\u001b[0m\u001b[0;34m\u001b[0m\u001b[0;34m\u001b[0m\u001b[0m\n\u001b[0;32m-> 1040\u001b[0;31m         \u001b[0;32mreturn\u001b[0m \u001b[0mmapping\u001b[0m\u001b[0;34m[\u001b[0m\u001b[0mengine\u001b[0m\u001b[0;34m]\u001b[0m\u001b[0;34m(\u001b[0m\u001b[0mself\u001b[0m\u001b[0;34m.\u001b[0m\u001b[0mf\u001b[0m\u001b[0;34m,\u001b[0m \u001b[0;34m**\u001b[0m\u001b[0mself\u001b[0m\u001b[0;34m.\u001b[0m\u001b[0moptions\u001b[0m\u001b[0;34m)\u001b[0m  \u001b[0;31m# type: ignore[call-arg]\u001b[0m\u001b[0;34m\u001b[0m\u001b[0;34m\u001b[0m\u001b[0m\n\u001b[0m\u001b[1;32m   1041\u001b[0m \u001b[0;34m\u001b[0m\u001b[0m\n\u001b[1;32m   1042\u001b[0m     \u001b[0;32mdef\u001b[0m \u001b[0m_failover_to_python\u001b[0m\u001b[0;34m(\u001b[0m\u001b[0mself\u001b[0m\u001b[0;34m)\u001b[0m\u001b[0;34m:\u001b[0m\u001b[0;34m\u001b[0m\u001b[0;34m\u001b[0m\u001b[0m\n",
      "\u001b[0;32m~/opt/anaconda3/envs/venv/lib/python3.9/site-packages/pandas/io/parsers/c_parser_wrapper.py\u001b[0m in \u001b[0;36m__init__\u001b[0;34m(self, src, **kwds)\u001b[0m\n\u001b[1;32m     49\u001b[0m \u001b[0;34m\u001b[0m\u001b[0m\n\u001b[1;32m     50\u001b[0m         \u001b[0;31m# open handles\u001b[0m\u001b[0;34m\u001b[0m\u001b[0;34m\u001b[0m\u001b[0;34m\u001b[0m\u001b[0m\n\u001b[0;32m---> 51\u001b[0;31m         \u001b[0mself\u001b[0m\u001b[0;34m.\u001b[0m\u001b[0m_open_handles\u001b[0m\u001b[0;34m(\u001b[0m\u001b[0msrc\u001b[0m\u001b[0;34m,\u001b[0m \u001b[0mkwds\u001b[0m\u001b[0;34m)\u001b[0m\u001b[0;34m\u001b[0m\u001b[0;34m\u001b[0m\u001b[0m\n\u001b[0m\u001b[1;32m     52\u001b[0m         \u001b[0;32massert\u001b[0m \u001b[0mself\u001b[0m\u001b[0;34m.\u001b[0m\u001b[0mhandles\u001b[0m \u001b[0;32mis\u001b[0m \u001b[0;32mnot\u001b[0m \u001b[0;32mNone\u001b[0m\u001b[0;34m\u001b[0m\u001b[0;34m\u001b[0m\u001b[0m\n\u001b[1;32m     53\u001b[0m \u001b[0;34m\u001b[0m\u001b[0m\n",
      "\u001b[0;32m~/opt/anaconda3/envs/venv/lib/python3.9/site-packages/pandas/io/parsers/base_parser.py\u001b[0m in \u001b[0;36m_open_handles\u001b[0;34m(self, src, kwds)\u001b[0m\n\u001b[1;32m    220\u001b[0m         \u001b[0mLet\u001b[0m \u001b[0mthe\u001b[0m \u001b[0mreaders\u001b[0m \u001b[0mopen\u001b[0m \u001b[0mIOHandles\u001b[0m \u001b[0mafter\u001b[0m \u001b[0mthey\u001b[0m \u001b[0mare\u001b[0m \u001b[0mdone\u001b[0m \u001b[0;32mwith\u001b[0m \u001b[0mtheir\u001b[0m \u001b[0mpotential\u001b[0m \u001b[0mraises\u001b[0m\u001b[0;34m.\u001b[0m\u001b[0;34m\u001b[0m\u001b[0;34m\u001b[0m\u001b[0m\n\u001b[1;32m    221\u001b[0m         \"\"\"\n\u001b[0;32m--> 222\u001b[0;31m         self.handles = get_handle(\n\u001b[0m\u001b[1;32m    223\u001b[0m             \u001b[0msrc\u001b[0m\u001b[0;34m,\u001b[0m\u001b[0;34m\u001b[0m\u001b[0;34m\u001b[0m\u001b[0m\n\u001b[1;32m    224\u001b[0m             \u001b[0;34m\"r\"\u001b[0m\u001b[0;34m,\u001b[0m\u001b[0;34m\u001b[0m\u001b[0;34m\u001b[0m\u001b[0m\n",
      "\u001b[0;32m~/opt/anaconda3/envs/venv/lib/python3.9/site-packages/pandas/io/common.py\u001b[0m in \u001b[0;36mget_handle\u001b[0;34m(path_or_buf, mode, encoding, compression, memory_map, is_text, errors, storage_options)\u001b[0m\n\u001b[1;32m    699\u001b[0m         \u001b[0;32mif\u001b[0m \u001b[0mioargs\u001b[0m\u001b[0;34m.\u001b[0m\u001b[0mencoding\u001b[0m \u001b[0;32mand\u001b[0m \u001b[0;34m\"b\"\u001b[0m \u001b[0;32mnot\u001b[0m \u001b[0;32min\u001b[0m \u001b[0mioargs\u001b[0m\u001b[0;34m.\u001b[0m\u001b[0mmode\u001b[0m\u001b[0;34m:\u001b[0m\u001b[0;34m\u001b[0m\u001b[0;34m\u001b[0m\u001b[0m\n\u001b[1;32m    700\u001b[0m             \u001b[0;31m# Encoding\u001b[0m\u001b[0;34m\u001b[0m\u001b[0;34m\u001b[0m\u001b[0;34m\u001b[0m\u001b[0m\n\u001b[0;32m--> 701\u001b[0;31m             handle = open(\n\u001b[0m\u001b[1;32m    702\u001b[0m                 \u001b[0mhandle\u001b[0m\u001b[0;34m,\u001b[0m\u001b[0;34m\u001b[0m\u001b[0;34m\u001b[0m\u001b[0m\n\u001b[1;32m    703\u001b[0m                 \u001b[0mioargs\u001b[0m\u001b[0;34m.\u001b[0m\u001b[0mmode\u001b[0m\u001b[0;34m,\u001b[0m\u001b[0;34m\u001b[0m\u001b[0;34m\u001b[0m\u001b[0m\n",
      "\u001b[0;31mFileNotFoundError\u001b[0m: [Errno 2] No such file or directory: 'Tickers.csv'"
     ]
    }
   ],
   "source": [
    "# Set the start date\n",
    "start_date = '2021-07-02'\n",
    "\n",
    "# Set the end date\n",
    "end_date = '2021-10-22'\n",
    "\n",
    "# Create an empty DataFrame for the stock history data\n",
    "hist_data = pd.DataFrame()\n",
    "\n",
    "# Create an empty dynamic array to store filtered stock names\n",
    "clean_stocks = []\n",
    "\n",
    "# Create an empty dynamic array to store sector names\n",
    "industry_list = []\n",
    "\n",
    "# Create an array that stores the required fields of a stock\n",
    "hist_need = ['Open','High','Low','Close','Volume']\n",
    "\n",
    "# Extract tickers from the CSV file\n",
    "tick_data = pd.read_csv(\"Tickers.csv\",names=[\"Tickers\"],keep_default_na=False)\n",
    "\n",
    "# Create an empty dynamic array to store ticker names\n",
    "list_tick = []\n",
    "\n",
    "# For loop that iterates to extract all tickers from CSV file\n",
    "for x in range(len(tick_data.index)):\n",
    "    \n",
    "    # Append each new ticker in the CSV to the ticker list\n",
    "    list_tick.append(tick_data['Tickers'].iloc[x])\n",
    "\n",
    "# Define a counting variable\n",
    "count=0\n",
    "# Iterate through all elements in the stock list checking for duplicate tickers\n",
    "while count < (len(list_tick)):\n",
    "    # check to see if the element is found anywhere else in the list\n",
    "    if list_tick.count(list_tick[count]) > 1:\n",
    "        # remove the stock from both lists\n",
    "        list_tick.remove(list_tick[count])\n",
    "        # Reduce the counting variable since a value was removed\n",
    "        count-=1\n",
    "    # Iterate through one more step\n",
    "    count+=1"
   ]
  },
  {
   "cell_type": "code",
   "execution_count": null,
   "metadata": {
    "scrolled": true
   },
   "outputs": [],
   "source": [
    "# Storing the start time as a float value of time in seconds\n",
    "start = time.perf_counter()\n",
    "\n",
    "\n",
    "# Implement a threading tool to speed up api calls and information extraction\n",
    "with concurrent.futures.ThreadPoolExecutor() as executor:\n",
    "    # Call the function get_info using the elements in list_tick and store the information in results\n",
    "    results = executor.map(get_info, list_tick)\n",
    "    # Iterate through the information produced by the function, and assign the values into a list or array.\n",
    "    for result in results:\n",
    "        # Variable for Open,Close,High,Low, and Volume of each Stock\n",
    "        hist_data = pd.concat([hist_data,result[0]],join='outer',axis=1)\n",
    "        # Variable to store all stocks\n",
    "        clean_stocks.append(result[1])\n",
    "        # Variable to store the industry of the respective stock (Note that this variable has similar elements to clean stocks)\n",
    "        industry_list.append(result[2])\n",
    "        \n",
    "# While loop that iterates to remove empty spaces in the industry_list\n",
    "# and the clean_stocks list\n",
    "while True:\n",
    "    \n",
    "    # If there is no more empty spaces in clean_stocks, terminate iteration\n",
    "    if \"\" not in clean_stocks:\n",
    "        break\n",
    "        \n",
    "    # Else, remove empty spaces from the two lists\n",
    "    else:\n",
    "        industry_list.remove(\"\")\n",
    "        clean_stocks.remove(\"\")\n",
    "        \n",
    "# Storing the finish time as a float value of time in seconds\n",
    "finish = time.perf_counter()\n",
    "\n",
    "# Display the execution time\n",
    "print(f'Finished in {round(finish-start,2)} seconds(s)')\n",
    "\n",
    "# Drop all NA entries\n",
    "hist_data.dropna(inplace=True)\n",
    "\n",
    "# Display the data for stock history\n",
    "hist_data.head()"
   ]
  },
  {
   "cell_type": "code",
   "execution_count": 54,
   "metadata": {},
   "outputs": [],
   "source": [
    "# Defines a function that consumes a list of stock names and produces a DataFrame that contains the daily returns\n",
    "# of the stocks\n",
    "def get_daily_returns(list_of_stock):\n",
    "    \n",
    "    # Create an empty DataFrame for daily returns\n",
    "    daily_returns = pd.DataFrame()\n",
    "    \n",
    "    # For loop that iterates to obtain the daily returns of stocks\n",
    "    for stock in list_of_stock:\n",
    "        daily_returns['Daily Returns of '+stock] = hist_data['Close of '+stock].pct_change()*100\n",
    "    \n",
    "    # Drop all N/A outputs\n",
    "    daily_returns.dropna(inplace=True)\n",
    "    \n",
    "    # Return the DataFrame\n",
    "    return daily_returns\n",
    "\n",
    "# Define a function that produces the average beta value of a list of stocks\n",
    "def get_beta_total(list_of_stock):\n",
    "    # Set a temporary variable to accumulate total\n",
    "    tot = 0\n",
    "    # Iterate through all stocks\n",
    "    for x in range (len(list_of_stock)):\n",
    "        # Add beta values\n",
    "        tot+= beta_vals['Beta Value of '+list_of_stock[x]].iloc[0]\n",
    "    # Return the total value divided by the amount of stocks\n",
    "    return (tot/len(list_of_stock))\n",
    "\n",
    "# Define a function that produces \n",
    "def get_average_std(list_of_stock):\n",
    "    tot = 0\n",
    "    for x in range (len(list_of_stock)):\n",
    "        tot+= daily_returns['Daily Returns of '+list_of_stock[x]].std(axis=0,skipna=True)\n",
    "    return (tot/len(list_of_stock))\n",
    "\n",
    "def get_alpha(list_of_stock):\n",
    "    # Get the current beta column\n",
    "    column_counter = 1\n",
    "    alpha = pd.DataFrame()\n",
    "    for stock in list_of_stock:\n",
    "        alpha['Alpha '+stock] = daily_returns['Daily Returns of '+stock] - ((daily_returns['Daily Returns of '+stock].mean()) * beta_vals.iloc[0, column_counter])\n",
    "        column_counter += 1\n",
    "    return alpha\n",
    "\n",
    "# MDD Equation: (Peak Value - Trough Value) / Peak Value\n",
    "def get_mdd(list_of_stock):\n",
    "    mdd = []\n",
    "    for x in range (len(list_of_stock)):\n",
    "        trough = min(hist_data['Low of '+list_of_stock[x]])\n",
    "        peak = max(hist_data['High of '+list_of_stock[x]])\n",
    "        mdd.append((((peak - trough) / peak)))\n",
    "    return mdd"
   ]
  },
  {
   "cell_type": "code",
   "execution_count": 55,
   "metadata": {
    "scrolled": true
   },
   "outputs": [
    {
     "data": {
      "text/html": [
       "<div>\n",
       "<style scoped>\n",
       "    .dataframe tbody tr th:only-of-type {\n",
       "        vertical-align: middle;\n",
       "    }\n",
       "\n",
       "    .dataframe tbody tr th {\n",
       "        vertical-align: top;\n",
       "    }\n",
       "\n",
       "    .dataframe thead th {\n",
       "        text-align: right;\n",
       "    }\n",
       "</style>\n",
       "<table border=\"1\" class=\"dataframe\">\n",
       "  <thead>\n",
       "    <tr style=\"text-align: right;\">\n",
       "      <th></th>\n",
       "    </tr>\n",
       "  </thead>\n",
       "  <tbody>\n",
       "  </tbody>\n",
       "</table>\n",
       "</div>"
      ],
      "text/plain": [
       "Empty DataFrame\n",
       "Columns: []\n",
       "Index: []"
      ]
     },
     "execution_count": 55,
     "metadata": {},
     "output_type": "execute_result"
    }
   ],
   "source": [
    "# Function call to obtain daily returns of the filtered stocks\n",
    "daily_returns = get_daily_returns(clean_stocks)\n",
    "\n",
    "# Display the DataFrame\n",
    "daily_returns.head()"
   ]
  },
  {
   "cell_type": "code",
   "execution_count": 56,
   "metadata": {},
   "outputs": [
    {
     "name": "stderr",
     "output_type": "stream",
     "text": [
      "/Users/jodiezhu/opt/anaconda3/envs/venv/lib/python3.9/site-packages/numpy/lib/function_base.py:380: RuntimeWarning: Mean of empty slice.\n",
      "  avg = a.mean(axis)\n",
      "/Users/jodiezhu/opt/anaconda3/envs/venv/lib/python3.9/site-packages/numpy/core/_methods.py:181: RuntimeWarning: invalid value encountered in true_divide\n",
      "  ret = um.true_divide(\n",
      "/Users/jodiezhu/opt/anaconda3/envs/venv/lib/python3.9/site-packages/pandas/core/frame.py:9521: RuntimeWarning: Degrees of freedom <= 0 for slice\n",
      "  base_cov = np.cov(mat.T, ddof=ddof)\n",
      "/Users/jodiezhu/opt/anaconda3/envs/venv/lib/python3.9/site-packages/numpy/lib/function_base.py:2542: RuntimeWarning: divide by zero encountered in true_divide\n",
      "  c *= np.true_divide(1, fact)\n",
      "/Users/jodiezhu/opt/anaconda3/envs/venv/lib/python3.9/site-packages/numpy/lib/function_base.py:2542: RuntimeWarning: invalid value encountered in multiply\n",
      "  c *= np.true_divide(1, fact)\n"
     ]
    },
    {
     "data": {
      "text/html": [
       "<div>\n",
       "<style scoped>\n",
       "    .dataframe tbody tr th:only-of-type {\n",
       "        vertical-align: middle;\n",
       "    }\n",
       "\n",
       "    .dataframe tbody tr th {\n",
       "        vertical-align: top;\n",
       "    }\n",
       "\n",
       "    .dataframe thead th {\n",
       "        text-align: right;\n",
       "    }\n",
       "</style>\n",
       "<table border=\"1\" class=\"dataframe\">\n",
       "  <thead>\n",
       "    <tr style=\"text-align: right;\">\n",
       "      <th></th>\n",
       "      <th>^GSPC</th>\n",
       "    </tr>\n",
       "  </thead>\n",
       "  <tbody>\n",
       "    <tr>\n",
       "      <th>^GSPC</th>\n",
       "      <td>NaN</td>\n",
       "    </tr>\n",
       "  </tbody>\n",
       "</table>\n",
       "</div>"
      ],
      "text/plain": [
       "       ^GSPC\n",
       "^GSPC    NaN"
      ]
     },
     "execution_count": 56,
     "metadata": {},
     "output_type": "execute_result"
    }
   ],
   "source": [
    "# Create a DataFrame to store the beta values\n",
    "beta_data = pd.DataFrame()\n",
    "MarketIndex='^GSPC'\n",
    "\n",
    "# Extract Ticker information\n",
    "marketing_tick = yf.Ticker(MarketIndex)\n",
    "\n",
    "# Extract ticker history data\n",
    "marketing_hist = marketing_tick.history(start=start_date,end=end_date)\n",
    "\n",
    "# Obtain the rate of return for the closing prices of the ticker\n",
    "beta_data[MarketIndex] = marketing_hist['Close'].pct_change()*100\n",
    "\n",
    "# Concatenate the beta values DataFrame and Daily Returns DataFrame\n",
    "beta_data = pd.concat([beta_data, daily_returns],join='inner',axis=1)\n",
    "\n",
    "# Calculate the variance for the ticker\n",
    "MarketVar= beta_data['^GSPC'].var()\n",
    "\n",
    "# Calculate Beta values \n",
    "Beta = pd.DataFrame(beta_data.cov() / MarketVar)\n",
    "beta_vals = pd.DataFrame(Beta.iloc[[0]])\n",
    "\n",
    "# Create an array that will be used to rename the beta_vals DataFrame Columns\n",
    "beta_names = ['^GSPC']\n",
    "\n",
    "# For loop that iterates to append the Beta Names to the list\n",
    "for stock in clean_stocks:\n",
    "    beta_names.append('Beta Value of ' + stock)\n",
    "\n",
    "# Reset column names\n",
    "beta_vals.columns = beta_names\n",
    "\n",
    "beta_vals.head()"
   ]
  },
  {
   "cell_type": "markdown",
   "metadata": {},
   "source": [
    "### Why we calculated beta:"
   ]
  },
  {
   "cell_type": "markdown",
   "metadata": {},
   "source": [
    "We used beta to measure the systematic risk (ie. volatility) of our portfolio value. The beta coefficient measures the volatility of an individual stock relative to the entire market’s systematic risk. This is effective in displaying the activity of a stock’s returns in reaction to rises and dips in the market. As such, it allows us to determine how risky a stock is in comparison to the rest of the market. With our portfolio’s safe strategy, we look for stocks with beta coefficients as close to 0 as possible. A beta coefficient close to 0 deduces that such stocks deviate very little from the market trends and thus, does not add much risk to the portfolio. The stocks that we look to invest in have low monthly returns which means that there is less at stakes. With low-risk investing, targeting stocks with low monthly returns means that we are protected against any possible loss.  \n",
    "\n",
    "An assumption made of the beta coefficient theory is that the stock returns are normally distributed. However, financial markets are susceptible to unavoidable shock events. As a matter of fact, returns are rarely normally distributed. Thus, the beta coefficient of a stock may be inaccurate when predicting its future movement. For instance, a stock has small price swings (low std) but is in a long-term downward trend. Thus, though the stock is determined as low risk by the beta coefficient, the potential for losses is, in contrary, relatively high. \n",
    "\n",
    "Furthermore, a limitation of using beta is that it is mostly accurate and effective in determining short-term risk. Since we calculate beta solely using historical closing prices, it is not as practical in aims of predicting the stock’s future movement. However, \n",
    "since the time interval is only 3 months, we concluded that beta is, nevertheless, useful in calculating a stock’s volatility.\n"
   ]
  },
  {
   "cell_type": "code",
   "execution_count": 57,
   "metadata": {},
   "outputs": [
    {
     "data": {
      "text/html": [
       "<div>\n",
       "<style scoped>\n",
       "    .dataframe tbody tr th:only-of-type {\n",
       "        vertical-align: middle;\n",
       "    }\n",
       "\n",
       "    .dataframe tbody tr th {\n",
       "        vertical-align: top;\n",
       "    }\n",
       "\n",
       "    .dataframe thead th {\n",
       "        text-align: right;\n",
       "    }\n",
       "</style>\n",
       "<table border=\"1\" class=\"dataframe\">\n",
       "  <thead>\n",
       "    <tr style=\"text-align: right;\">\n",
       "      <th></th>\n",
       "    </tr>\n",
       "  </thead>\n",
       "  <tbody>\n",
       "  </tbody>\n",
       "</table>\n",
       "</div>"
      ],
      "text/plain": [
       "Empty DataFrame\n",
       "Columns: []\n",
       "Index: []"
      ]
     },
     "execution_count": 57,
     "metadata": {},
     "output_type": "execute_result"
    }
   ],
   "source": [
    "# Create an empty DataFrame for alpha\n",
    "alpha = pd.DataFrame()\n",
    "\n",
    "# For loop that iterates to obtain the daily alpha values\n",
    "for stock in clean_stocks:\n",
    "    alpha['Alpha '+stock] = daily_returns['Daily Returns of '+stock] - ((daily_returns['Daily Returns of '+stock].mean()) * beta_vals['Beta Value of '+stock].iloc[0])\n",
    "\n",
    "# Display alpha DataFrame    \n",
    "alpha.head()"
   ]
  },
  {
   "cell_type": "code",
   "execution_count": 58,
   "metadata": {},
   "outputs": [
    {
     "name": "stdout",
     "output_type": "stream",
     "text": [
      "Finished in 0.0 seconds(s)\n"
     ]
    }
   ],
   "source": [
    "# Storing the start time as a float value of time in seconds\n",
    "start = time.perf_counter()\n",
    "\n",
    "# Create empty dynamic arrays for the industry lists\n",
    "tech_list = []\n",
    "health_list = []\n",
    "industrial_list = []\n",
    "finance_list = []\n",
    "defensive_list = []\n",
    "cyclical_list = []\n",
    "real_estate_list = []\n",
    "energy_list = []\n",
    "materials_list = []\n",
    "communication_list = []\n",
    "utilities_list = []\n",
    "\n",
    "# For loop that iterates to append stocks' daily returns to the corresponding industry\n",
    "for (industry,stock) in zip(industry_list,clean_stocks):\n",
    "    if industry == \"Technology\":\n",
    "        tech_list.append((daily_returns['Daily Returns of '+stock].std(axis=0,skipna=True),stock))\n",
    "    if industry == \"Healthcare\":\n",
    "        health_list.append((daily_returns['Daily Returns of '+stock].std(axis=0,skipna=True),stock))\n",
    "    if industry == \"Industrials\":\n",
    "        industrial_list.append((daily_returns['Daily Returns of '+stock].std(axis=0,skipna=True),stock))\n",
    "    if industry == \"Financial Services\":\n",
    "        finance_list.append((daily_returns['Daily Returns of '+stock].std(axis=0,skipna=True),stock))\n",
    "    if industry == \"Consumer Defensive\":\n",
    "        defensive_list.append((daily_returns['Daily Returns of '+stock].std(axis=0,skipna=True),stock))\n",
    "    if industry == \"Consumer Cyclical\":\n",
    "        cyclical_list.append((daily_returns['Daily Returns of '+stock].std(axis=0,skipna=True),stock))\n",
    "    if industry == \"Real Estate\":\n",
    "        real_estate_list.append((daily_returns['Daily Returns of '+stock].std(axis=0,skipna=True),stock))\n",
    "    if industry == \"Energy\":\n",
    "        energy_list.append((daily_returns['Daily Returns of '+stock].std(axis=0,skipna=True),stock))\n",
    "    if industry == \"Basic Materials\":\n",
    "        materials_list.append((daily_returns['Daily Returns of '+stock].std(axis=0,skipna=True),stock))\n",
    "    if industry == \"Communication Services\":\n",
    "        communication_list.append((daily_returns['Daily Returns of '+stock].std(axis=0,skipna=True),stock))\n",
    "    if industry == \"Utilities\":\n",
    "        utilities_list.append((daily_returns['Daily Returns of '+stock].std(axis=0,skipna=True),stock))\n",
    "list_of_industries = [tech_list,health_list,industrial_list,finance_list,defensive_list,cyclical_list,real_estate_list,energy_list,materials_list,communication_list,utilities_list]\n",
    "\n",
    "# Storing the finish time as a float value of time in seconds\n",
    "finish = time.perf_counter()\n",
    "\n",
    "# Display time used to execute code\n",
    "print(f'Finished in {round(finish-start,2)} seconds(s)')"
   ]
  },
  {
   "cell_type": "code",
   "execution_count": 59,
   "metadata": {},
   "outputs": [],
   "source": [
    "# Sort all industry lists\n",
    "tech_list.sort()\n",
    "health_list.sort()\n",
    "industrial_list.sort()\n",
    "finance_list.sort()\n",
    "defensive_list.sort()\n",
    "cyclical_list.sort()\n",
    "real_estate_list.sort()\n",
    "energy_list.sort()\n",
    "materials_list.sort()\n",
    "communication_list.sort()\n",
    "utilities_list.sort()"
   ]
  },
  {
   "cell_type": "code",
   "execution_count": 60,
   "metadata": {},
   "outputs": [],
   "source": [
    "# Create an empty dynamic array for the final selected list of stocks\n",
    "total_list = []\n",
    "\n",
    "# If statements to append stocks into the total_list and keeps track\n",
    "if len(tech_list)!=0:\n",
    "    total_list.append(tech_list[0][1])\n",
    "    \n",
    "if len(health_list)!=0:\n",
    "    total_list.append(health_list[0][1])\n",
    "    \n",
    "if len(industrial_list)!=0:\n",
    "    total_list.append(industrial_list[0][1])\n",
    "    \n",
    "if len(finance_list)!=0:\n",
    "    total_list.append(finance_list[0][1])\n",
    "    \n",
    "if len(defensive_list)!=0:\n",
    "    total_list.append(defensive_list[0][1])\n",
    "    \n",
    "if len(cyclical_list)!=0:\n",
    "    total_list.append(cyclical_list[0][1])\n",
    "    \n",
    "if len(real_estate_list)!=0:\n",
    "    total_list.append(real_estate_list[0][1])\n",
    "    \n",
    "if len(energy_list)!=0:\n",
    "    total_list.append(energy_list[0][1])\n",
    "    \n",
    "if len(materials_list)!=0:\n",
    "    total_list.append(materials_list[0][1])\n",
    "    \n",
    "if len(communication_list)!=0:\n",
    "    total_list.append(communication_list[0][1])\n",
    "    \n",
    "if len(utilities_list)!=0:\n",
    "    total_list.append(utilities_list[0][1])\n",
    "    "
   ]
  },
  {
   "cell_type": "code",
   "execution_count": 61,
   "metadata": {},
   "outputs": [],
   "source": [
    "## Define a function that consumes a list of tickers Tickers and a total balance\n",
    "def create_monthly(Tickers, balance):\n",
    "    ## Define an empty dataframe\n",
    "    ticker_frame = pd.DataFrame()\n",
    "    ## Iterate through all of the tickers within the ticker list\n",
    "    for x in range(len(Tickers)):\n",
    "        stock = Tickers[x][1]\n",
    "        ## Concatenate the dataframe with the value of the ticker within the portfolio\n",
    "        ticker_frame = pd.concat([ticker_frame, pd.DataFrame(hist_data['Close of '+stock]*((1/len(Tickers)*balance)/hist_data['Close of '+stock].iloc[0])).rename(columns={'Close of '+stock:'Value of '+stock})], axis=1)\n",
    "    ## Return the total dataframe\n",
    "    return ticker_frame"
   ]
  },
  {
   "cell_type": "code",
   "execution_count": 62,
   "metadata": {},
   "outputs": [],
   "source": [
    "current_stock_list = []\n",
    "list_of_std = []\n",
    "total_list = []\n",
    "industry_index = ['Technology','Healthcare','Industrials','Financial Services','Consumer Defensive','Consumer Cyclical','Real Estate','Energy','Basic Materials','Communication Services','Utilities']\n",
    "count = 0\n",
    "while count < (len(list_of_industries)):\n",
    "    if len(list_of_industries[count]) != 0:\n",
    "        total_list.append(list_of_industries[count][0][1])\n",
    "        current_stock_list += list_of_industries[count]\n",
    "        industry_frame = create_monthly(current_stock_list,100000)\n",
    "        industry_frame['Balance'] = industry_frame.sum(axis=1)\n",
    "        industry_frame['Daily Returns']= industry_frame['Balance'].pct_change()* 100\n",
    "        list_of_std.append(industry_frame['Daily Returns'].std(axis=0,skipna=True))\n",
    "    else:\n",
    "  #      print(list_of_industries[count])\n",
    "        industry_index.remove(industry_index[count])\n",
    "        list_of_industries.remove(list_of_industries[count])\n",
    "        count -=1\n",
    "    count+=1"
   ]
  },
  {
   "cell_type": "code",
   "execution_count": 63,
   "metadata": {},
   "outputs": [
    {
     "ename": "ZeroDivisionError",
     "evalue": "integer division or modulo by zero",
     "output_type": "error",
     "traceback": [
      "\u001b[0;31m---------------------------------------------------------------------------\u001b[0m",
      "\u001b[0;31mZeroDivisionError\u001b[0m                         Traceback (most recent call last)",
      "\u001b[0;32m/var/folders/7v/tn6bg1v50_j881wkhfg36bxw0000gn/T/ipykernel_36446/4043871998.py\u001b[0m in \u001b[0;36m<module>\u001b[0;34m\u001b[0m\n\u001b[1;32m      1\u001b[0m \u001b[0mplt\u001b[0m\u001b[0;34m.\u001b[0m\u001b[0mrcParams\u001b[0m\u001b[0;34m[\u001b[0m\u001b[0;34m\"figure.figsize\"\u001b[0m\u001b[0;34m]\u001b[0m \u001b[0;34m=\u001b[0m \u001b[0;34m(\u001b[0m\u001b[0;36m20\u001b[0m\u001b[0;34m,\u001b[0m\u001b[0;36m10\u001b[0m\u001b[0;34m)\u001b[0m\u001b[0;34m\u001b[0m\u001b[0;34m\u001b[0m\u001b[0m\n\u001b[0;32m----> 2\u001b[0;31m \u001b[0mplt\u001b[0m\u001b[0;34m.\u001b[0m\u001b[0mplot\u001b[0m\u001b[0;34m(\u001b[0m\u001b[0;34m(\u001b[0m\u001b[0mpd\u001b[0m\u001b[0;34m.\u001b[0m\u001b[0mDataFrame\u001b[0m\u001b[0;34m(\u001b[0m\u001b[0mlist_of_std\u001b[0m\u001b[0;34m,\u001b[0m\u001b[0mindex\u001b[0m\u001b[0;34m=\u001b[0m\u001b[0mindustry_index\u001b[0m\u001b[0;34m)\u001b[0m\u001b[0;34m)\u001b[0m\u001b[0;34m,\u001b[0m \u001b[0mls\u001b[0m\u001b[0;34m=\u001b[0m\u001b[0;34m'-'\u001b[0m\u001b[0;34m,\u001b[0m \u001b[0mcolor\u001b[0m\u001b[0;34m=\u001b[0m\u001b[0;34m'k'\u001b[0m\u001b[0;34m,\u001b[0m \u001b[0mlabel\u001b[0m \u001b[0;34m=\u001b[0m \u001b[0;34m\"Average Portfolio Value\"\u001b[0m\u001b[0;34m)\u001b[0m\u001b[0;34m\u001b[0m\u001b[0;34m\u001b[0m\u001b[0m\n\u001b[0m\u001b[1;32m      3\u001b[0m \u001b[0;31m## Define the title\u001b[0m\u001b[0;34m\u001b[0m\u001b[0;34m\u001b[0m\u001b[0;34m\u001b[0m\u001b[0m\n\u001b[1;32m      4\u001b[0m \u001b[0mplt\u001b[0m\u001b[0;34m.\u001b[0m\u001b[0mtitle\u001b[0m\u001b[0;34m(\u001b[0m\u001b[0;34m'Standard Deviation of the Portfolio as Industries are Added'\u001b[0m\u001b[0;34m)\u001b[0m\u001b[0;34m\u001b[0m\u001b[0;34m\u001b[0m\u001b[0m\n\u001b[1;32m      5\u001b[0m \u001b[0;31m## Formatting\u001b[0m\u001b[0;34m\u001b[0m\u001b[0;34m\u001b[0m\u001b[0;34m\u001b[0m\u001b[0m\n",
      "\u001b[0;32m~/opt/anaconda3/envs/venv/lib/python3.9/site-packages/matplotlib/pyplot.py\u001b[0m in \u001b[0;36mplot\u001b[0;34m(scalex, scaley, data, *args, **kwargs)\u001b[0m\n\u001b[1;32m   3017\u001b[0m \u001b[0;34m@\u001b[0m\u001b[0m_copy_docstring_and_deprecators\u001b[0m\u001b[0;34m(\u001b[0m\u001b[0mAxes\u001b[0m\u001b[0;34m.\u001b[0m\u001b[0mplot\u001b[0m\u001b[0;34m)\u001b[0m\u001b[0;34m\u001b[0m\u001b[0;34m\u001b[0m\u001b[0m\n\u001b[1;32m   3018\u001b[0m \u001b[0;32mdef\u001b[0m \u001b[0mplot\u001b[0m\u001b[0;34m(\u001b[0m\u001b[0;34m*\u001b[0m\u001b[0margs\u001b[0m\u001b[0;34m,\u001b[0m \u001b[0mscalex\u001b[0m\u001b[0;34m=\u001b[0m\u001b[0;32mTrue\u001b[0m\u001b[0;34m,\u001b[0m \u001b[0mscaley\u001b[0m\u001b[0;34m=\u001b[0m\u001b[0;32mTrue\u001b[0m\u001b[0;34m,\u001b[0m \u001b[0mdata\u001b[0m\u001b[0;34m=\u001b[0m\u001b[0;32mNone\u001b[0m\u001b[0;34m,\u001b[0m \u001b[0;34m**\u001b[0m\u001b[0mkwargs\u001b[0m\u001b[0;34m)\u001b[0m\u001b[0;34m:\u001b[0m\u001b[0;34m\u001b[0m\u001b[0;34m\u001b[0m\u001b[0m\n\u001b[0;32m-> 3019\u001b[0;31m     return gca().plot(\n\u001b[0m\u001b[1;32m   3020\u001b[0m         \u001b[0;34m*\u001b[0m\u001b[0margs\u001b[0m\u001b[0;34m,\u001b[0m \u001b[0mscalex\u001b[0m\u001b[0;34m=\u001b[0m\u001b[0mscalex\u001b[0m\u001b[0;34m,\u001b[0m \u001b[0mscaley\u001b[0m\u001b[0;34m=\u001b[0m\u001b[0mscaley\u001b[0m\u001b[0;34m,\u001b[0m\u001b[0;34m\u001b[0m\u001b[0;34m\u001b[0m\u001b[0m\n\u001b[1;32m   3021\u001b[0m         **({\"data\": data} if data is not None else {}), **kwargs)\n",
      "\u001b[0;32m~/opt/anaconda3/envs/venv/lib/python3.9/site-packages/matplotlib/axes/_axes.py\u001b[0m in \u001b[0;36mplot\u001b[0;34m(self, scalex, scaley, data, *args, **kwargs)\u001b[0m\n\u001b[1;32m   1603\u001b[0m         \"\"\"\n\u001b[1;32m   1604\u001b[0m         \u001b[0mkwargs\u001b[0m \u001b[0;34m=\u001b[0m \u001b[0mcbook\u001b[0m\u001b[0;34m.\u001b[0m\u001b[0mnormalize_kwargs\u001b[0m\u001b[0;34m(\u001b[0m\u001b[0mkwargs\u001b[0m\u001b[0;34m,\u001b[0m \u001b[0mmlines\u001b[0m\u001b[0;34m.\u001b[0m\u001b[0mLine2D\u001b[0m\u001b[0;34m)\u001b[0m\u001b[0;34m\u001b[0m\u001b[0;34m\u001b[0m\u001b[0m\n\u001b[0;32m-> 1605\u001b[0;31m         \u001b[0mlines\u001b[0m \u001b[0;34m=\u001b[0m \u001b[0;34m[\u001b[0m\u001b[0;34m*\u001b[0m\u001b[0mself\u001b[0m\u001b[0;34m.\u001b[0m\u001b[0m_get_lines\u001b[0m\u001b[0;34m(\u001b[0m\u001b[0;34m*\u001b[0m\u001b[0margs\u001b[0m\u001b[0;34m,\u001b[0m \u001b[0mdata\u001b[0m\u001b[0;34m=\u001b[0m\u001b[0mdata\u001b[0m\u001b[0;34m,\u001b[0m \u001b[0;34m**\u001b[0m\u001b[0mkwargs\u001b[0m\u001b[0;34m)\u001b[0m\u001b[0;34m]\u001b[0m\u001b[0;34m\u001b[0m\u001b[0;34m\u001b[0m\u001b[0m\n\u001b[0m\u001b[1;32m   1606\u001b[0m         \u001b[0;32mfor\u001b[0m \u001b[0mline\u001b[0m \u001b[0;32min\u001b[0m \u001b[0mlines\u001b[0m\u001b[0;34m:\u001b[0m\u001b[0;34m\u001b[0m\u001b[0;34m\u001b[0m\u001b[0m\n\u001b[1;32m   1607\u001b[0m             \u001b[0mself\u001b[0m\u001b[0;34m.\u001b[0m\u001b[0madd_line\u001b[0m\u001b[0;34m(\u001b[0m\u001b[0mline\u001b[0m\u001b[0;34m)\u001b[0m\u001b[0;34m\u001b[0m\u001b[0;34m\u001b[0m\u001b[0m\n",
      "\u001b[0;32m~/opt/anaconda3/envs/venv/lib/python3.9/site-packages/matplotlib/axes/_base.py\u001b[0m in \u001b[0;36m__call__\u001b[0;34m(self, data, *args, **kwargs)\u001b[0m\n\u001b[1;32m    313\u001b[0m                 \u001b[0mthis\u001b[0m \u001b[0;34m+=\u001b[0m \u001b[0margs\u001b[0m\u001b[0;34m[\u001b[0m\u001b[0;36m0\u001b[0m\u001b[0;34m]\u001b[0m\u001b[0;34m,\u001b[0m\u001b[0;34m\u001b[0m\u001b[0;34m\u001b[0m\u001b[0m\n\u001b[1;32m    314\u001b[0m                 \u001b[0margs\u001b[0m \u001b[0;34m=\u001b[0m \u001b[0margs\u001b[0m\u001b[0;34m[\u001b[0m\u001b[0;36m1\u001b[0m\u001b[0;34m:\u001b[0m\u001b[0;34m]\u001b[0m\u001b[0;34m\u001b[0m\u001b[0;34m\u001b[0m\u001b[0m\n\u001b[0;32m--> 315\u001b[0;31m             \u001b[0;32myield\u001b[0m \u001b[0;32mfrom\u001b[0m \u001b[0mself\u001b[0m\u001b[0;34m.\u001b[0m\u001b[0m_plot_args\u001b[0m\u001b[0;34m(\u001b[0m\u001b[0mthis\u001b[0m\u001b[0;34m,\u001b[0m \u001b[0mkwargs\u001b[0m\u001b[0;34m)\u001b[0m\u001b[0;34m\u001b[0m\u001b[0;34m\u001b[0m\u001b[0m\n\u001b[0m\u001b[1;32m    316\u001b[0m \u001b[0;34m\u001b[0m\u001b[0m\n\u001b[1;32m    317\u001b[0m     \u001b[0;32mdef\u001b[0m \u001b[0mget_next_color\u001b[0m\u001b[0;34m(\u001b[0m\u001b[0mself\u001b[0m\u001b[0;34m)\u001b[0m\u001b[0;34m:\u001b[0m\u001b[0;34m\u001b[0m\u001b[0;34m\u001b[0m\u001b[0m\n",
      "\u001b[0;32m~/opt/anaconda3/envs/venv/lib/python3.9/site-packages/matplotlib/axes/_base.py\u001b[0m in \u001b[0;36m_plot_args\u001b[0;34m(self, tup, kwargs, return_kwargs)\u001b[0m\n\u001b[1;32m    537\u001b[0m             \u001b[0;32mreturn\u001b[0m \u001b[0mlist\u001b[0m\u001b[0;34m(\u001b[0m\u001b[0mresult\u001b[0m\u001b[0;34m)\u001b[0m\u001b[0;34m\u001b[0m\u001b[0;34m\u001b[0m\u001b[0m\n\u001b[1;32m    538\u001b[0m         \u001b[0;32melse\u001b[0m\u001b[0;34m:\u001b[0m\u001b[0;34m\u001b[0m\u001b[0;34m\u001b[0m\u001b[0m\n\u001b[0;32m--> 539\u001b[0;31m             \u001b[0;32mreturn\u001b[0m \u001b[0;34m[\u001b[0m\u001b[0ml\u001b[0m\u001b[0;34m[\u001b[0m\u001b[0;36m0\u001b[0m\u001b[0;34m]\u001b[0m \u001b[0;32mfor\u001b[0m \u001b[0ml\u001b[0m \u001b[0;32min\u001b[0m \u001b[0mresult\u001b[0m\u001b[0;34m]\u001b[0m\u001b[0;34m\u001b[0m\u001b[0;34m\u001b[0m\u001b[0m\n\u001b[0m\u001b[1;32m    540\u001b[0m \u001b[0;34m\u001b[0m\u001b[0m\n\u001b[1;32m    541\u001b[0m \u001b[0;34m\u001b[0m\u001b[0m\n",
      "\u001b[0;32m~/opt/anaconda3/envs/venv/lib/python3.9/site-packages/matplotlib/axes/_base.py\u001b[0m in \u001b[0;36m<listcomp>\u001b[0;34m(.0)\u001b[0m\n\u001b[1;32m    537\u001b[0m             \u001b[0;32mreturn\u001b[0m \u001b[0mlist\u001b[0m\u001b[0;34m(\u001b[0m\u001b[0mresult\u001b[0m\u001b[0;34m)\u001b[0m\u001b[0;34m\u001b[0m\u001b[0;34m\u001b[0m\u001b[0m\n\u001b[1;32m    538\u001b[0m         \u001b[0;32melse\u001b[0m\u001b[0;34m:\u001b[0m\u001b[0;34m\u001b[0m\u001b[0;34m\u001b[0m\u001b[0m\n\u001b[0;32m--> 539\u001b[0;31m             \u001b[0;32mreturn\u001b[0m \u001b[0;34m[\u001b[0m\u001b[0ml\u001b[0m\u001b[0;34m[\u001b[0m\u001b[0;36m0\u001b[0m\u001b[0;34m]\u001b[0m \u001b[0;32mfor\u001b[0m \u001b[0ml\u001b[0m \u001b[0;32min\u001b[0m \u001b[0mresult\u001b[0m\u001b[0;34m]\u001b[0m\u001b[0;34m\u001b[0m\u001b[0;34m\u001b[0m\u001b[0m\n\u001b[0m\u001b[1;32m    540\u001b[0m \u001b[0;34m\u001b[0m\u001b[0m\n\u001b[1;32m    541\u001b[0m \u001b[0;34m\u001b[0m\u001b[0m\n",
      "\u001b[0;32m~/opt/anaconda3/envs/venv/lib/python3.9/site-packages/matplotlib/axes/_base.py\u001b[0m in \u001b[0;36m<genexpr>\u001b[0;34m(.0)\u001b[0m\n\u001b[1;32m    530\u001b[0m             \u001b[0mlabels\u001b[0m \u001b[0;34m=\u001b[0m \u001b[0;34m[\u001b[0m\u001b[0mlabel\u001b[0m\u001b[0;34m]\u001b[0m \u001b[0;34m*\u001b[0m \u001b[0mn_datasets\u001b[0m\u001b[0;34m\u001b[0m\u001b[0;34m\u001b[0m\u001b[0m\n\u001b[1;32m    531\u001b[0m \u001b[0;34m\u001b[0m\u001b[0m\n\u001b[0;32m--> 532\u001b[0;31m         result = (make_artist(x[:, j % ncx], y[:, j % ncy], kw,\n\u001b[0m\u001b[1;32m    533\u001b[0m                               {**kwargs, 'label': label})\n\u001b[1;32m    534\u001b[0m                   for j, label in enumerate(labels))\n",
      "\u001b[0;31mZeroDivisionError\u001b[0m: integer division or modulo by zero"
     ]
    },
    {
     "data": {
      "image/png": "[encoded data removed]",
      "text/plain": [
       "<Figure size 1440x720 with 1 Axes>"
      ]
     },
     "metadata": {
      "needs_background": "light"
     },
     "output_type": "display_data"
    }
   ],
   "source": [
    "plt.rcParams[\"figure.figsize\"] = (20,10)\n",
    "plt.plot((pd.DataFrame(list_of_std,index=industry_index)), ls='-', color='k', label = \"Average Portfolio Value\")\n",
    "## Define the title\n",
    "plt.title('Standard Deviation of the Portfolio as Industries are Added')\n",
    "## Formatting\n",
    "plt.xlabel('Industry Added')\n",
    "plt.ylabel('Standard Deviation')\n",
    "# Create legend\n",
    "plt.legend(loc='best')\n",
    "## Display the graph\n",
    "plt.show()\n",
    "plt.rcParams[\"figure.figsize\"] = plt.rcParamsDefault[\"figure.figsize\"]"
   ]
  },
  {
   "cell_type": "markdown",
   "metadata": {},
   "source": [
    "Our portfolio is divided into different stock market sectors. By the Global Industry Classification Standard (GICS), there are 11 different stock market sectors. As such, the 11 S&P sectors are: Information Technology, Healthcare, Financials, Consumer Discretionary, Communication Services, Industrials, Consumer Staples, Energy, Utilities, Real Estate, and Materials. Thus, the industries categorized within our portfolio reflect the sectors in the S&P500: Technology, Healthcare, Financial Services, Consumer Defensive, Consumer Cyclical, Industrials, Communication Services, Energy, Utilities, Real Estate, and Basic Materials, respectively. "
   ]
  },
  {
   "cell_type": "code",
   "execution_count": 64,
   "metadata": {},
   "outputs": [
    {
     "data": {
      "text/html": [
       "<div>\n",
       "<style scoped>\n",
       "    .dataframe tbody tr th:only-of-type {\n",
       "        vertical-align: middle;\n",
       "    }\n",
       "\n",
       "    .dataframe tbody tr th {\n",
       "        vertical-align: top;\n",
       "    }\n",
       "\n",
       "    .dataframe thead th {\n",
       "        text-align: right;\n",
       "    }\n",
       "</style>\n",
       "<table border=\"1\" class=\"dataframe\">\n",
       "  <thead>\n",
       "    <tr style=\"text-align: right;\">\n",
       "      <th></th>\n",
       "    </tr>\n",
       "  </thead>\n",
       "  <tbody>\n",
       "  </tbody>\n",
       "</table>\n",
       "</div>"
      ],
      "text/plain": [
       "Empty DataFrame\n",
       "Columns: []\n",
       "Index: []"
      ]
     },
     "execution_count": 64,
     "metadata": {},
     "output_type": "execute_result"
    }
   ],
   "source": [
    "# Obtain the alpha values for the stocks\n",
    "alpha = get_alpha(total_list)\n",
    "\n",
    "# Display the DataFrame\n",
    "alpha.head()"
   ]
  },
  {
   "cell_type": "markdown",
   "metadata": {},
   "source": [
    "Alpha is used to measure the daily stock return in comparison to the market index that it is compared against. The number output represents a percentage above or below the benchmark index. Note that alpha is calculated using historical closing prices so it does not indicate any future trends. "
   ]
  },
  {
   "cell_type": "code",
   "execution_count": 65,
   "metadata": {},
   "outputs": [
    {
     "data": {
      "text/plain": [
       "[]"
      ]
     },
     "execution_count": 65,
     "metadata": {},
     "output_type": "execute_result"
    }
   ],
   "source": [
    "# Obtain the MDD for the list of stocks\n",
    "mdd = get_mdd(total_list)\n",
    "\n",
    "# Display the list of MDD values\n",
    "mdd"
   ]
  },
  {
   "cell_type": "markdown",
   "metadata": {},
   "source": [
    "### Why we evaluated Maximum Drawdown:"
   ]
  },
  {
   "cell_type": "markdown",
   "metadata": {},
   "source": [
    "Maximum Drawdown (MDD) was used to measure the maximum historical loss and to analyze the downside risk over our 3 month interval. This is used to analyze our stock weighting strategy relative to other weightings, which is one of our primary concerns. For instance, two different portfolio weightings can output the same volatility and performance on average but their maximum drawdowns would be different. This is how we distinguish between a stock with low volatility, consistent average performance, but high maximum drawdown with low volatility, consistent average performance, and low maximum drawdown. As such, low maximum drawdown is always preferred since this deduces that there were minimal losses from the investment. In the case that a maximum drawdown is zero, this would indicate that the stock never lost any money. A stock with 0 maximum drawdown is what we aim to weigh the highest since it entails the least loss. \n",
    "\n",
    "Furthermore, in diversifying our portfolio, drawdown risk is reduced; this is because different industry market conditions impact different stocks in different ways. As we explored in Assignment 4, when investing all stocks in the same industry, assets are at a  greater risk of loss. This is why inter-industry investments are a large factor of our safe strategy. by investing in other industries, each stock will react differently to the same market event. For instance, when the market of one industry is growing, the stocks of that industry tend to outperform stocks from other industries. On the contrary, when the market for one industry starts to slow down, stocks from other industries start outperforming this industry’s stocks. as such, by holding inter-industry investments, we are minimizing the fluctuation of our overall portfolio when the market swings one way of another.  \n",
    "\n",
    "Note that some investors use the equation: (Trough - Peak) / Peak to calculate maximum drawdown (which will entail a negative value). However, since our sole purpose of measuring maximum drawdown is to find the greatest movement from a high point to a low point, we use (Peak - Trough) / Peak ; this is essentially the same as the absolute value of (Trough-Peak)/ Peak. \n",
    "\n",
    "However, one limitation of using maximum drawdown is that it does not indicate how long it took for the stock to recover from the loss, or if the investment ever recovers. Additionally, since maximum drawdown only measures the largest drawdown, other smaller periods are ignored— this may cause an inaccurate interpretation of the stock. \n",
    "\n",
    "Nevertheless, since our main focus in calculating maximum drawdown is to evaluate the largest deviation between the highest point and the lowest point of the stock, smaller periods of loss/gains are insignificant for our analysis. \n"
   ]
  },
  {
   "cell_type": "code",
   "execution_count": 66,
   "metadata": {},
   "outputs": [],
   "source": [
    "# For loop that iterates to remove stock names that appear in the total_list from the clean_stocks\n",
    "for x in range (len(total_list)):\n",
    "    clean_stocks.remove(total_list[x])"
   ]
  },
  {
   "cell_type": "code",
   "execution_count": 67,
   "metadata": {},
   "outputs": [
    {
     "data": {
      "text/plain": [
       "[]"
      ]
     },
     "execution_count": 67,
     "metadata": {},
     "output_type": "execute_result"
    }
   ],
   "source": [
    "# Display the total_list\n",
    "total_list"
   ]
  },
  {
   "cell_type": "code",
   "execution_count": 68,
   "metadata": {},
   "outputs": [
    {
     "data": {
      "text/plain": [
       "[]"
      ]
     },
     "execution_count": 68,
     "metadata": {},
     "output_type": "execute_result"
    }
   ],
   "source": [
    "# Create an emtpy dynamic array for the list of beta values\n",
    "list_of_beta = []\n",
    "\n",
    "# For loop that iterates to append the Standard Deviation, Beta Value, and name of the stocks into list_of_beta array\n",
    "for stock in clean_stocks:\n",
    "    list_of_beta.append((daily_returns['Daily Returns of '+stock].std(axis=0,skipna=True),beta_vals[\"Beta Value of \"+stock].iloc[0],stock))\n",
    "\n",
    "# Sort the list\n",
    "list_of_beta.sort()\n",
    "\n",
    "# Display the list_of_beta\n",
    "list_of_beta"
   ]
  },
  {
   "cell_type": "markdown",
   "metadata": {},
   "source": [
    "### Why we used standard deviation:"
   ]
  },
  {
   "cell_type": "markdown",
   "metadata": {},
   "source": [
    "Standard deviation is an effective tool to predict stock trends and measure stock and market volatility. Since we are unwilling to assume risk , a lower standard deviation is preferred and considered when weighing our stocks. A high standard deviation signifies that the magnitude of deviations between closing prices are high, and prices swing widely; the stock is riskier in this sense. As such, standard deviation evaluates the risk and required return on our investment. With our low risk tolerance strategy, we steer toward stocks with lower standard deviation; this also means less variance in monthly returns.\n",
    "\n",
    "However, there are a few limitation of using standard deviation. Firstly, it is impacted by outliers and extreme values. Standard deviation assumes that the closing prices follow a pattern of normal distribution. As such, standard deviation will give inaccurate results for any stocks that don’t follow a normal pattern of distribution. However, we use standard deviation as a starting point to calculate the risk involved in investing in a particular stock."
   ]
  },
  {
   "cell_type": "code",
   "execution_count": 69,
   "metadata": {},
   "outputs": [
    {
     "ename": "IndexError",
     "evalue": "list index out of range",
     "output_type": "error",
     "traceback": [
      "\u001b[0;31m---------------------------------------------------------------------------\u001b[0m",
      "\u001b[0;31mIndexError\u001b[0m                                Traceback (most recent call last)",
      "\u001b[0;32m/var/folders/7v/tn6bg1v50_j881wkhfg36bxw0000gn/T/ipykernel_36446/1367228823.py\u001b[0m in \u001b[0;36m<module>\u001b[0;34m\u001b[0m\n\u001b[1;32m     46\u001b[0m \u001b[0;31m# While loop that iterates to append the stock names to the total_list\u001b[0m\u001b[0;34m\u001b[0m\u001b[0;34m\u001b[0m\u001b[0;34m\u001b[0m\u001b[0m\n\u001b[1;32m     47\u001b[0m \u001b[0;32mwhile\u001b[0m \u001b[0mlen\u001b[0m\u001b[0;34m(\u001b[0m\u001b[0mtotal_list\u001b[0m\u001b[0;34m)\u001b[0m \u001b[0;34m!=\u001b[0m \u001b[0;36m20\u001b[0m \u001b[0;32mor\u001b[0m \u001b[0mlen\u001b[0m\u001b[0;34m(\u001b[0m\u001b[0mclean_stocks\u001b[0m\u001b[0;34m)\u001b[0m \u001b[0;34m==\u001b[0m \u001b[0;36m0\u001b[0m\u001b[0;34m:\u001b[0m\u001b[0;34m\u001b[0m\u001b[0;34m\u001b[0m\u001b[0m\n\u001b[0;32m---> 48\u001b[0;31m     \u001b[0mtotal_list\u001b[0m\u001b[0;34m.\u001b[0m\u001b[0mappend\u001b[0m\u001b[0;34m(\u001b[0m\u001b[0mlist_of_beta\u001b[0m\u001b[0;34m[\u001b[0m\u001b[0;36m0\u001b[0m\u001b[0;34m]\u001b[0m\u001b[0;34m[\u001b[0m\u001b[0;36m2\u001b[0m\u001b[0;34m]\u001b[0m\u001b[0;34m)\u001b[0m\u001b[0;34m\u001b[0m\u001b[0;34m\u001b[0m\u001b[0m\n\u001b[0m\u001b[1;32m     49\u001b[0m \u001b[0;34m\u001b[0m\u001b[0m\n\u001b[1;32m     50\u001b[0m     \u001b[0;31m# Remove the first element in the list_of_beta\u001b[0m\u001b[0;34m\u001b[0m\u001b[0;34m\u001b[0m\u001b[0;34m\u001b[0m\u001b[0m\n",
      "\u001b[0;31mIndexError\u001b[0m: list index out of range"
     ]
    }
   ],
   "source": [
    "# Set the threshold as 0\n",
    "threshold = 0\n",
    "\n",
    "# While loop that iterates to append more stocks to total_list until the number of stocks reaches 20\n",
    "while threshold < len(clean_stocks):\n",
    "    \n",
    "    # Terminate the loop if the the number of stocks in total_list reaches 20\n",
    "    if len(total_list) == 20:\n",
    "        break\n",
    "        \n",
    "    # Function call to obtain the average beta value for stocks in the total_list and store it in the temporary variable\n",
    "    beta_temp = get_beta_total(total_list)\n",
    "    \n",
    "    # Function call to obtain the average standard deviation of stocks in the total_list and store it in the temporary variable\n",
    "    std_temp = get_average_std(total_list)\n",
    "    \n",
    "    # Assign the Beta Value, Standard Deviation, and name of the stock in row #Threshold to the variables\n",
    "    beta_stock = list_of_beta[threshold][1]\n",
    "    std_stock = list_of_beta[threshold][0]\n",
    "    stock = list_of_beta[threshold][2]\n",
    "\n",
    "    # If the current stock's standard deviation is less than the average standard deviation\n",
    "    if std_stock < std_temp:\n",
    "        \n",
    "        # If the beta value of the current stock is closer to 0 than the temporary beta varaible\n",
    "        if (beta_stock <= beta_temp and beta_temp >= 0) or (beta_stock >= beta_temp and beta_temp < 0):\n",
    "            \n",
    "            # Append the new stock into the total_list\n",
    "            total_list.append(stock)\n",
    "            \n",
    "            # Remove the stock name from the list of filtered stocks\n",
    "            clean_stocks.remove(stock)\n",
    "            \n",
    "            # Remove the beta value from the list at the threshold position\n",
    "            list_of_beta.pop(threshold)\n",
    "            \n",
    "            # Subtract 1 from the value of threshold\n",
    "            threshold-=1\n",
    "            \n",
    "    # Add 1 to the value of threshold\n",
    "    threshold+=1\n",
    "    \n",
    "# Set counter value to 0\n",
    "counting = 0\n",
    "\n",
    "# While loop that iterates to append the stock names to the total_list\n",
    "while len(total_list) != 20 or len(clean_stocks) == 0:\n",
    "    total_list.append(list_of_beta[0][2])\n",
    "    \n",
    "    # Remove the first element in the list_of_beta\n",
    "    list_of_beta.pop(0)\n",
    "    \n",
    "# Display the total_list\n",
    "print(total_list)"
   ]
  },
  {
   "cell_type": "code",
   "execution_count": 70,
   "metadata": {},
   "outputs": [
    {
     "data": {
      "text/html": [
       "<div>\n",
       "<style scoped>\n",
       "    .dataframe tbody tr th:only-of-type {\n",
       "        vertical-align: middle;\n",
       "    }\n",
       "\n",
       "    .dataframe tbody tr th {\n",
       "        vertical-align: top;\n",
       "    }\n",
       "\n",
       "    .dataframe thead th {\n",
       "        text-align: right;\n",
       "    }\n",
       "</style>\n",
       "<table border=\"1\" class=\"dataframe\">\n",
       "  <thead>\n",
       "    <tr style=\"text-align: right;\">\n",
       "      <th></th>\n",
       "    </tr>\n",
       "  </thead>\n",
       "  <tbody>\n",
       "  </tbody>\n",
       "</table>\n",
       "</div>"
      ],
      "text/plain": [
       "Empty DataFrame\n",
       "Columns: []\n",
       "Index: []"
      ]
     },
     "execution_count": 70,
     "metadata": {},
     "output_type": "execute_result"
    }
   ],
   "source": [
    "# Function call to get_daily_returns to obtain the daily value for the new total_list\n",
    "final_returns = get_daily_returns(total_list)\n",
    "\n",
    "# Display the head of the DataFrame\n",
    "final_returns.head()"
   ]
  },
  {
   "cell_type": "code",
   "execution_count": 71,
   "metadata": {},
   "outputs": [
    {
     "data": {
      "text/html": [
       "<div>\n",
       "<style scoped>\n",
       "    .dataframe tbody tr th:only-of-type {\n",
       "        vertical-align: middle;\n",
       "    }\n",
       "\n",
       "    .dataframe tbody tr th {\n",
       "        vertical-align: top;\n",
       "    }\n",
       "\n",
       "    .dataframe thead th {\n",
       "        text-align: right;\n",
       "    }\n",
       "</style>\n",
       "<table border=\"1\" class=\"dataframe\">\n",
       "  <thead>\n",
       "    <tr style=\"text-align: right;\">\n",
       "      <th></th>\n",
       "    </tr>\n",
       "  </thead>\n",
       "  <tbody>\n",
       "  </tbody>\n",
       "</table>\n",
       "</div>"
      ],
      "text/plain": [
       "Empty DataFrame\n",
       "Columns: []\n",
       "Index: []"
      ]
     },
     "execution_count": 71,
     "metadata": {},
     "output_type": "execute_result"
    }
   ],
   "source": [
    "# Obtain the correlation values for the final_returns DataFrame and present them as a DataFrame\n",
    "correlation_values = pd.DataFrame(final_returns.corr())\n",
    "\n",
    "# Display the DataFrame\n",
    "correlation_values.head()"
   ]
  },
  {
   "cell_type": "code",
   "execution_count": null,
   "metadata": {
    "scrolled": true
   },
   "outputs": [],
   "source": [
    "# Create an empty dynamic array for the list of beta values for the final list of stocks\n",
    "final_beta_std = []\n",
    "\n",
    "# For loop that iterates to obtain the Standard Deviation, Beta Values, and names of the final list of stocks \n",
    "for stock in total_list:\n",
    "    final_beta_std.append((final_returns['Daily Returns of '+stock].std(axis=0,skipna=True),beta_vals[\"Beta Value of \"+stock].iloc[0],stock))\n",
    "    \n",
    "# Sort the list\n",
    "final_beta_std.sort()\n",
    "\n",
    "# Display the list\n",
    "final_beta_std"
   ]
  },
  {
   "cell_type": "code",
   "execution_count": null,
   "metadata": {},
   "outputs": [],
   "source": [
    "print(get_average_std(total_list))\n",
    "print(get_beta_total(total_list))"
   ]
  },
  {
   "cell_type": "code",
   "execution_count": null,
   "metadata": {},
   "outputs": [],
   "source": [
    "# Create an empty dynamic array for the list of beta values\n",
    "list_of_beta = []\n",
    "\n",
    "# For loop that iterates to append the Standard Deviation, Beta Values, and names of stocks in the list of filtered stocks\n",
    "for stock in clean_stocks:\n",
    "    list_of_beta.append((daily_returns['Daily Returns of '+stock].std(axis=0,skipna=True),beta_vals[\"Beta Value of \"+stock].iloc[0],stock))\n",
    "\n",
    "# Sort the list\n",
    "list_of_beta.sort()\n",
    "\n",
    "# Display the list\n",
    "list_of_beta"
   ]
  },
  {
   "cell_type": "code",
   "execution_count": null,
   "metadata": {},
   "outputs": [],
   "source": [
    "# Function call to obtain the daily returns of the new total_list\n",
    "final_returns = get_daily_returns(total_list)\n",
    "\n",
    "# Display the daily returns\n",
    "final_returns.head()"
   ]
  },
  {
   "cell_type": "code",
   "execution_count": null,
   "metadata": {},
   "outputs": [],
   "source": []
  },
  {
   "cell_type": "code",
   "execution_count": null,
   "metadata": {
    "scrolled": true
   },
   "outputs": [],
   "source": [
    "# Find the correlation of the daily returns and put them into a DataFrame\n",
    "\n",
    "\n",
    "# Create an empty dynamic array for the names of the columns in the correlation_values DataFrame\n",
    "correlation_names = []\n",
    "for stock in total_list:\n",
    "    correlation_names.append('Correlation Value of ' + stock)  \n",
    "correlation_frame = pd.DataFrame(final_returns)\n",
    "# Reassign the column names\n",
    "correlation_frame.columns = correlation_names\n",
    "correlation_frame.head()\n",
    "correlation_values = pd.DataFrame(correlation_frame.corr())\n",
    "# Display the first 25 correlation values\n",
    "correlation_values.head(25)"
   ]
  },
  {
   "cell_type": "code",
   "execution_count": null,
   "metadata": {},
   "outputs": [],
   "source": [
    "# Create empty dynamic array for the beta and standard deviation array\n",
    "final_beta_std = []\n",
    "\n",
    "# Create empty dynamic array for the tuples list\n",
    "list_tuple = []\n",
    "\n",
    "# For loop that iterates to append Standard Deviation, Beta Values, and name of the stocks into the list\n",
    "for stock in total_list:\n",
    "    final_beta_std.append((final_returns['Daily Returns of '+stock].std(axis=0,skipna=True),beta_vals[\"Beta Value of \"+stock].iloc[0],stock))\n",
    "\n",
    "# Sort the array in decreasing order\n",
    "final_beta_std.sort(reverse=True)"
   ]
  },
  {
   "cell_type": "code",
   "execution_count": null,
   "metadata": {
    "scrolled": true
   },
   "outputs": [],
   "source": [
    "# Display the list\n",
    "final_beta_std"
   ]
  },
  {
   "cell_type": "code",
   "execution_count": null,
   "metadata": {},
   "outputs": [],
   "source": [
    "# Function that consumes an index and a stock and returns the temporary list with stock \n",
    "def find_lowest_corr(index,stock):\n",
    "    \n",
    "    # Set the lowest correlation value to 100\n",
    "    lowest_corr = 100\n",
    "    \n",
    "    # Declare a variable to store temporary stock name\n",
    "    temp_stock = \"\"\n",
    "    \n",
    "    # For loop that iterates and removes the stocks that have correlation value less than lowest_corr\n",
    "    for stk in sorted_list:\n",
    "        \n",
    "        # If the current stock is not the one passed in as parameter\n",
    "        if stk != stock:\n",
    "            curr_corr = correlation_values['Correlation Value of '+stk].loc['Daily Returns of '+stock]\n",
    "            \n",
    "            # if the current correlation is less than the lowest correlation value\n",
    "            if curr_corr < lowest_corr:\n",
    "                lowest_corr = curr_corr\n",
    "                temp_stock = stk\n",
    "                \n",
    "    # Remove the current stocks from the list\n",
    "    sorted_list.remove(temp_stock)\n",
    "    sorted_list.remove(stock)\n",
    "    \n",
    "    # Return the temporary list that contains the stock names\n",
    "    list_temp = [stock,temp_stock]\n",
    "    return list_temp\n",
    "\n",
    "# Set the iterates variable as the length of final_beta_std array - 10\n",
    "iterates = len(final_beta_std) - 10\n",
    "\n",
    "# Create two dynamic arrays for the sorted list and tuple list\n",
    "sorted_list = []\n",
    "list_tuple = []\n",
    "\n",
    "# For loop that iterates to append stock name in final_beta_std into the sorted list\n",
    "for x in range (len(final_beta_std)):\n",
    "    sorted_list.append(final_beta_std[x][2])\n",
    "    \n",
    "# For loop that iterates to append stock names that contains smaller correlation into the list_tuple\n",
    "for x in range (iterates):\n",
    "    list_tuple.append(find_lowest_corr(x,sorted_list[0]))\n",
    "    \n",
    "# For loop that iterates to append stock names in the sorted_list into list_tuple\n",
    "for x in range (len(sorted_list)-1,-1,-1):\n",
    "    list_tuple.append([sorted_list[x]])\n",
    "    \n",
    "# Display the list_tuple\n",
    "list_tuple"
   ]
  },
  {
   "cell_type": "code",
   "execution_count": null,
   "metadata": {},
   "outputs": [],
   "source": [
    "# Create an empty dynamic array for the standard deviation, beta, and stock names tuple\n",
    "std_beta_tuple = []\n",
    "\n",
    "# For loop that iterates to append average Standard deviation, average Beta Value, and list of stock names\n",
    "# into the std_beta-tuple array\n",
    "for lists in list_tuple:\n",
    "    std_beta_tuple.append((get_average_std(lists),get_beta_total(lists),lists))\n",
    "    \n",
    "# Sort the array\n",
    "std_beta_tuple.sort()\n",
    "\n",
    "# Display the array\n",
    "std_beta_tuple"
   ]
  },
  {
   "cell_type": "code",
   "execution_count": null,
   "metadata": {},
   "outputs": [],
   "source": [
    "# Function that returns the alpha mean of a stock\n",
    "def get_alpha_mean(stocks):\n",
    "    \n",
    "    # Create a dynamic array to store the alpha mean values\n",
    "    alpha_mean = []\n",
    "    \n",
    "    # For loop that iterates to obtain the alpha means\n",
    "    for stock in stocks:\n",
    "        alpha_mean.append(alpha['Alpha '+stock].mean())\n",
    "        \n",
    "    # Return the alpha means\n",
    "    return alpha_mean"
   ]
  },
  {
   "cell_type": "code",
   "execution_count": null,
   "metadata": {
    "scrolled": true
   },
   "outputs": [],
   "source": [
    "# Update the alpha with newly added stocks\n",
    "alpha = get_alpha(total_list)\n",
    "\n",
    "# Display the alpha DataFrame\n",
    "alpha.head()"
   ]
  },
  {
   "cell_type": "code",
   "execution_count": null,
   "metadata": {},
   "outputs": [],
   "source": [
    "# Update the MDD with newly added stocks\n",
    "mdd = get_mdd(total_list)\n",
    "mdd"
   ]
  },
  {
   "cell_type": "code",
   "execution_count": null,
   "metadata": {},
   "outputs": [],
   "source": [
    "# Create a DataFrame for final_beta_std array\n",
    "final_beta_std_dataframe = pd.DataFrame(final_beta_std)\n",
    "\n",
    "# Reset the column names\n",
    "final_beta_std_dataframe.columns = ['Beta', 'Standard Deviation', 'Stock Names']\n",
    "\n",
    "# Add a new column for Alpha values\n",
    "final_beta_std_dataframe['Alpha'] = pd.DataFrame(get_alpha_mean(final_beta_std_dataframe['Stock Names'].tolist()))\n",
    "\n",
    "# Add a new column for MDD values\n",
    "final_beta_std_dataframe['MDD'] = pd.DataFrame(get_mdd(final_beta_std_dataframe['Stock Names'].tolist()))\n",
    "\n",
    "\n",
    "# Set the graph size\n",
    "plt.figure(figsize=(10, 10))\n",
    "\n",
    "# Define the function that draws the Graph\n",
    "def draw_graphs(df):\n",
    "    \n",
    "    # Set the list of colours\n",
    "    colours = ['b', 'r', 'c', 'm']\n",
    "    # Set a counter to obtain colour in the colours list\n",
    "    colour_counter = 0\n",
    "    \n",
    "    # For loop that iterates to plot graphs for each column in the DataFrame\n",
    "    for column_name in (df.columns.tolist()):\n",
    "        \n",
    "        # If the column in the DataFrame is not Stock Names\n",
    "        if(column_name != 'Stock Names'):\n",
    "            \n",
    "            # Plot the column\n",
    "            plt.plot(df['Stock Names'], df[column_name], color = colours[colour_counter], label = (column_name))\n",
    "            \n",
    "            # Increase the colour_counter\n",
    "            colour_counter += 1\n",
    "\n",
    "    # Set up legends, titles, and rotate X-axis names\n",
    "    plt.legend(loc ='best')\n",
    "    plt.xlabel('Stock Names')\n",
    "    plt.xticks(rotation = 70)\n",
    "    plt.ylabel('Units')\n",
    "    plt.title('Beta In Relation With Standard Deviation, MDD, and Alpha')\n",
    "\n",
    "    # Display the graph\n",
    "    plt.show()\n",
    "\n",
    "# Draw the graph\n",
    "draw_graphs(final_beta_std_dataframe)"
   ]
  },
  {
   "cell_type": "markdown",
   "metadata": {},
   "source": [
    "The graph above illustrates the changes in standard deviation, maximum drawdown, and alpha between each stock as the value of beta changes."
   ]
  },
  {
   "cell_type": "markdown",
   "metadata": {},
   "source": [
    "### Case 1: Beta is less than 1"
   ]
  },
  {
   "cell_type": "markdown",
   "metadata": {},
   "source": [
    "When beta is less than 1, the stock is— by theory— less volatile than the market. As such, the portfolio becomes less risky after investing in this stock. As a result, the standard deviation, alpha, and maximum drawdown of the stock are all very low, approximately hovering around 0. \n",
    "\n",
    "Firstly, when beta is less than 1, alpha is at its baseline value of 0. This denotes that the return on the investment during our three month interval matched the benchmark of 0. \n",
    "\n",
    "Furthermore, as illustrated in the graph, maximum drawdown is also approximately at 0. Since the stock is less volatile, the peak and trough are relatively close to each other, with a difference of almost 0. As aforementioned, stocks with low maximum drawdown are less volatile and have less monthly returns— these are what we aim to weigh more. \n",
    "\n",
    "Next, standard deviation is approximately at 0. This means that there’s less variance between each closing price and the mean, which shows a smaller price range. The more volatile the stock is, the higher the standard deviation. Thus, with a standard deviation of approximately 0, stocks are less volatile. "
   ]
  },
  {
   "cell_type": "markdown",
   "metadata": {},
   "source": [
    "### Case 2: Beta is equal to 1"
   ]
  },
  {
   "cell_type": "markdown",
   "metadata": {},
   "source": [
    "When beta is equal to 1, the market strongly correlates with price activity. This does not directly indicate that the stock makes the portfolio more risky, but it also does not increase monthly returns. \n",
    "\n",
    "Alpha continues to be approximately at 0. As mentioned in the case where beta is less than 1, the return on the investment from July to October matches the benchmark of 0. \n",
    "\n",
    "Moreover, maximum drawdown increases slightly, meaning the peak and the trough deviate slightly from each other. Thus, stocks with slightly higher maximum drawdown are little more volatile than stocks with a maximum drawdown of 0. \n",
    "\n",
    "As illustrated in the graph, standard deviation oscillates but increases when stocks are more volatile. With our low-risk strategy, we tend to weigh these stocks lower. "
   ]
  },
  {
   "cell_type": "markdown",
   "metadata": {},
   "source": [
    "### Case 3: Beta is greater than 1"
   ]
  },
  {
   "cell_type": "markdown",
   "metadata": {},
   "source": [
    "When the beta coefficient of a stock is greater than 1, the stock is more volatile than the market. For instance, if a stock has a beta coefficient of 1.3, it is 30% more volatile than the market. This implies that adding the stock to the portfolio will increase its risk, which is what we aim to weigh less. \n",
    "\n",
    "Beta increases significantly as standard deviation increases; the graph displays a positive correlation. Since standard deviation increases, maximum drawdown increases as well since the difference from the peak to the trough increases. As such, stocks are highly volatile."
   ]
  },
  {
   "cell_type": "code",
   "execution_count": null,
   "metadata": {},
   "outputs": [],
   "source": [
    "# Function that consumes a list of stock names and the weight on the stocks\n",
    "# and returns the Portfolio DataFrame\n",
    "def create_portfolio(stock_list,weight):\n",
    "    \n",
    "    # Create an empty DataFrame\n",
    "    ticker_frame = pd.DataFrame()\n",
    "    \n",
    "    # For loop that iterates to create the DataFrame\n",
    "    for x in range (len(stock_list)):\n",
    "        ticker_frame = pd.concat([ticker_frame, pd.DataFrame((hist_data['Close of '+stock_list[x]]*(1/len(stock_list)*((weight+5)/100)*100000)/hist_data['Close of '+stock_list[x]].iloc[0])).rename(columns={'Close of '+stock_list[x]:'Value of '+stock_list[x]})], axis=1)\n",
    "    \n",
    "    return ticker_frame\n",
    "\n",
    "# Function that consumes \n",
    "def check_fifty(fifty_index,pair_list):\n",
    "    list_index =[]\n",
    "    temp_frame = pd.DataFrame()\n",
    "    temp_beta = pd.DataFrame()\n",
    "    temp_beta[MarketIndex] = marketing_hist['Close'].pct_change()*100\n",
    "    for x in range (len(pair_list)):\n",
    "        if fifty_index == x:\n",
    "            list_index.append(50)\n",
    "            temp_frame = pd.concat([temp_frame,create_portfolio(pair_list[x],50)],axis=1)\n",
    "        else:\n",
    "            list_index.append(0)\n",
    "            temp_frame = pd.concat([temp_frame,create_portfolio(pair_list[x],0)],axis=1)\n",
    "    temp_beta[MarketIndex] = marketing_hist['Close'].pct_change()*100\n",
    "    temp_frame['Balance'] = temp_frame.sum(axis=1)\n",
    "    temp_frame['Daily Returns'] = temp_frame['Balance'].pct_change()* 100\n",
    "    temp_beta = pd.concat([temp_beta, temp_frame['Daily Returns']],axis=1)\n",
    "    MarketVar= temp_beta['^GSPC'].var()\n",
    "    compare_market = pd.DataFrame(temp_beta.cov() / MarketVar)\n",
    "    beta_port = compare_market.iloc[0,1]\n",
    "    alpha_port = (temp_frame['Daily Returns'] - ((temp_frame['Daily Returns'].mean())* beta_port)).mean()\n",
    "    std_port =temp_frame['Daily Returns'].std(axis=0,skipna=True)\n",
    "    risk_value = alpha_port+std_port+beta_port\n",
    "    return (risk_value,list_index)\n",
    "def check_double(large_index,small_index,big,small,pair_list):\n",
    "    list_index =[]\n",
    "    temp_frame = pd.DataFrame()\n",
    "    temp_beta = pd.DataFrame()\n",
    "    temp_beta[MarketIndex] = marketing_hist['Close'].pct_change()*100\n",
    "    temp_frame = create_portfolio(pair_list[large_index],big)\n",
    "    for y in range (len(pair_list)):\n",
    "        if y != large_index:\n",
    "            if small_index == y:\n",
    "                list_index.append(small)\n",
    "                temp_frame = pd.concat([temp_frame,create_portfolio(pair_list[y],small)],axis=1)\n",
    "            else:\n",
    "                list_index.append(0)\n",
    "                temp_frame = pd.concat([temp_frame,create_portfolio(pair_list[y],0)],axis=1)\n",
    "        else:\n",
    "            list_index.append(big)\n",
    "    temp_frame['Balance'] = temp_frame.sum(axis=1)\n",
    "    temp_frame['Daily Returns'] = temp_frame['Balance'].pct_change()* 100\n",
    "    temp_beta = pd.concat([temp_beta, temp_frame['Daily Returns']],join='inner',axis=1)\n",
    "    MarketVar= temp_beta['^GSPC'].var()\n",
    "    compare_market = pd.DataFrame(temp_beta.cov() / MarketVar)\n",
    "    beta_port = compare_market.iloc[0,1]\n",
    "    alpha_port = (temp_frame['Daily Returns'] - ((temp_frame['Daily Returns'].mean())* beta_port)).mean()\n",
    "    std_port =temp_frame['Daily Returns'].std(axis=0,skipna=True)\n",
    "    risk_value = alpha_port+std_port+beta_port\n",
    "    return (risk_value,list_index)     \n",
    "def check_triple(first,second,third,single,double,pair_list):\n",
    "    list_index = []\n",
    "    temp_frame = pd.DataFrame()\n",
    "    temp_beta = pd.DataFrame()\n",
    "    temp_beta[MarketIndex] = marketing_hist['Close'].pct_change()*100\n",
    "    temp_frame = create_portfolio(pair_list[first],single)\n",
    "    for y in range (len(pair_list)):\n",
    "        if first!=y:\n",
    "            if second == y or third == y:\n",
    "                list_index.append(double)\n",
    "                temp_frame = pd.concat([temp_frame,create_portfolio(pair_list[y],double)],axis=1)\n",
    "            else:\n",
    "                list_index.append(0)\n",
    "                temp_frame = pd.concat([temp_frame,create_portfolio(pair_list[y],0)],axis=1)\n",
    "        else:\n",
    "            list_index.append(single)\n",
    "    temp_frame['Balance'] = temp_frame.sum(axis=1)\n",
    "    temp_frame['Daily Returns'] = temp_frame['Balance'].pct_change()* 100\n",
    "    temp_beta = pd.concat([temp_beta, temp_frame['Daily Returns']],join='inner',axis=1)\n",
    "    MarketVar= temp_beta['^GSPC'].var()\n",
    "    compare_market = pd.DataFrame(temp_beta.cov() / MarketVar)\n",
    "    beta_port = compare_market.iloc[0,1]\n",
    "    alpha_port = (temp_frame['Daily Returns'] - ((temp_frame['Daily Returns'].mean())* beta_port)).mean()\n",
    "    std_port =temp_frame['Daily Returns'].std(axis=0,skipna=True)\n",
    "    risk_value = alpha_port+std_port+beta_port\n",
    "    return (risk_value,list_index)     \n",
    "def check_quadruple(first,second,third,fourth,pair_list):\n",
    "    list_index =[]\n",
    "    temp_frame = pd.DataFrame()\n",
    "    temp_beta = pd.DataFrame()\n",
    "    temp_beta[MarketIndex] = marketing_hist['Close'].pct_change()*100\n",
    "    temp_frame = create_portfolio(pair_list[first],20)\n",
    "    for y in range (len(pair_list)):\n",
    "        if first != y:\n",
    "            if second == y or third == y or fourth == y:\n",
    "                list_index.append(10)\n",
    "                temp_frame = pd.concat([temp_frame,create_portfolio(pair_list[y],10)],axis=1)\n",
    "            else:\n",
    "                list_index.append(0)\n",
    "                temp_frame = pd.concat([temp_frame,create_portfolio(pair_list[y],0)],axis=1)\n",
    "        else:\n",
    "            list_index.append(20)\n",
    "    temp_frame['Balance'] = temp_frame.sum(axis=1)\n",
    "    temp_frame['Daily Returns'] = temp_frame['Balance'].pct_change()* 100\n",
    "    temp_beta = pd.concat([temp_beta, temp_frame['Daily Returns']],join='inner',axis=1)\n",
    "    MarketVar= temp_beta['^GSPC'].var()\n",
    "    compare_market = pd.DataFrame(temp_beta.cov() / MarketVar)\n",
    "    beta_port = compare_market.iloc[0,1]\n",
    "    alpha_port = (temp_frame['Daily Returns'] - ((temp_frame['Daily Returns'].mean())* beta_port)).mean()\n",
    "    std_port =temp_frame['Daily Returns'].std(axis=0,skipna=True)\n",
    "    risk_value = alpha_port+std_port+beta_port\n",
    "    return (risk_value,list_index)\n",
    "def check_all(pair_list):\n",
    "    list_index =[]\n",
    "    temp_frame = pd.DataFrame()\n",
    "    temp_beta = pd.DataFrame()\n",
    "    temp_beta[MarketIndex] = marketing_hist['Close'].pct_change()*100\n",
    "    for x in range(len(pair_list)):\n",
    "        list_index.append(10)\n",
    "        temp_frame = pd.concat([temp_frame,create_portfolio(pair_list[x],10)],axis=1)\n",
    "    temp_frame['Balance'] = temp_frame.sum(axis=1)\n",
    "    temp_frame['Daily Returns'] = temp_frame['Balance'].pct_change()* 100\n",
    "    temp_beta = pd.concat([temp_beta, temp_frame['Daily Returns']],join='inner',axis=1)\n",
    "    MarketVar= temp_beta['^GSPC'].var()\n",
    "    compare_market = pd.DataFrame(temp_beta.cov() / MarketVar)\n",
    "    beta_port = compare_market.iloc[0,1]\n",
    "    alpha_port = (temp_frame['Daily Returns'] - ((temp_frame['Daily Returns'].mean())* beta_port)).mean()\n",
    "    std_port =temp_frame['Daily Returns'].std(axis=0,skipna=True)\n",
    "    risk_value = alpha_port+std_port+beta_port\n",
    "    return (risk_value,list_index)"
   ]
  },
  {
   "cell_type": "code",
   "execution_count": null,
   "metadata": {},
   "outputs": [],
   "source": [
    "# Create empty arrays to \n",
    "fifty = []\n",
    "fourty_ten = []\n",
    "thirty_twenty = []\n",
    "ten_twenty_twenty = []\n",
    "thirty_ten_ten = []\n",
    "ten_ten_ten_ten_twenty = []\n",
    "for x in range(len(list_tuple)):\n",
    "    fifty.append(check_fifty(x,list_tuple))\n",
    "    for y in range(len(list_tuple)):\n",
    "        if y != x:\n",
    "            fourty_ten.append(check_double(x,y,40,10,list_tuple))\n",
    "            thirty_twenty.append(check_double(x,y,30,20,list_tuple))\n",
    "            for z in range(len(list_tuple)):\n",
    "                if z > y and z != x:\n",
    "                    ten_twenty_twenty.append(check_triple(x,y,z,10,20,list_tuple))\n",
    "                    thirty_ten_ten.append(check_triple(x,y,z,30,10,list_tuple))\n",
    "                    for a in range(len(list_tuple)):\n",
    "                        if a > z and a != x:\n",
    "                            ten_ten_ten_ten_twenty.append(check_quadruple(x,y,z,a,list_tuple))\n",
    "all_weights = fifty+fourty_ten+thirty_twenty+ten_twenty_twenty+thirty_ten_ten+ten_ten_ten_ten_twenty\n",
    "list_of_weights = min(all_weights)[1]"
   ]
  },
  {
   "cell_type": "code",
   "execution_count": null,
   "metadata": {},
   "outputs": [],
   "source": [
    "plt.rcParams[\"figure.figsize\"] = (20,10)\n",
    "\n",
    "# For loop that iterates to \n",
    "for x in range (len(list_tuple)):\n",
    "    if len(list_tuple[x]) == 2:\n",
    "        temp_frame = pd.DataFrame()\n",
    "        temp_frame['Daily Returns of '+list_tuple[x][0]] = hist_data['Close of '+list_tuple[x][0]].pct_change()* 100\n",
    "        temp_frame['Daily Returns of '+list_tuple[x][1]] = hist_data['Close of '+list_tuple[x][1]].pct_change()* 100\n",
    "        tot_frame = pd.DataFrame()\n",
    "        tot_frame = create_portfolio(list_tuple[x],100000*(5+list_of_weights[x]))\n",
    "        tot_frame['Balance'] = tot_frame.sum(axis=1)\n",
    "        tot_frame['Daily Returns']= tot_frame['Balance'].pct_change()* 100\n",
    "        plt.plot(temp_frame.index,temp_frame['Daily Returns of '+list_tuple[x][0]], ls='--', color='b',label = list_tuple[x][0])\n",
    "        plt.plot(temp_frame.index,temp_frame['Daily Returns of '+list_tuple[x][1]], ls='--', color='r',label = list_tuple[x][1])\n",
    "        plt.plot(tot_frame.index,tot_frame['Daily Returns'], ls='-', color='k',label = 'Overall Returns')\n",
    "    plt.title('Standard Deviation of the Portfolio as Industries are Added')\n",
    "    ## Formatting\n",
    "    plt.xlabel('Date')\n",
    "    plt.ylabel('Percentage Change')\n",
    "    plt.xticks(rotation=50)\n",
    "    # Create legend\n",
    "    plt.legend(loc='best')\n",
    "    ## Display the graph\n",
    "    plt.show()\n",
    "plt.rcParams[\"figure.figsize\"] = plt.rcParamsDefault[\"figure.figsize\"]"
   ]
  },
  {
   "cell_type": "markdown",
   "metadata": {},
   "source": [
    "This subplot is an excellent example of inter-industry investments on diversification. When we begin investing in more stocks from other industries, the closing price of one specific stock gradually becomes less impactful on the overall portfolio value-- this is exactly what is illustrated in the subplots. In other words, by investing in other industries, each stock will react differently to the same market event. For example, when the Healthcare market is growing, Healthcare stocks tend to outperform stocks from other industries. On the other hand, when Healthcare starts to slow down, stocks from other industries may start outperforming Healthcare stocks. Thus, by holding Healthcare, Tech, Energy, Financial Services, and Industrial stocks, you are minimizing the fluctuation of your portfolio when the market swings one way or another.\n",
    "\n",
    "As we continue to invest in stocks from different industries, it is clear that it becomes less and less susceptible to any volatile stock. This is a direct demonstration of the practice of diversification; the main goal is to help reduce the volatility of your portfolio over time.\n",
    "\n",
    "Diversification refers to reducing price volatility by spreading investments across a variety of different industries that have low correlation to each other. This works because different industry markets move up and down at different times and rates. That is, when a certain industry drops in price value, another industry may be thriving. This method of investing offers a consistent overall portfolio performance. However, there is no method of completely diversifying away risk. There will always exist systematic risks that affect every stock. \n",
    "\n",
    "When exploring the standard deviation based on the number of portfolios added, the sharper the slope of the stock movement within a period of time, the riskier the portfolio is. This is illustrated in the subplot above. According to the Modern Portfolio Theory (MPT), \"any given investment's risk and return characteristics should not be viewed alone but should be evaluated by how it affects the overall portfolio's risk and return\" (Investopedia). Essentially, in Elton and Gruber's Modern Portfolio Theory and Investment Analysis, they came to the conclusion that the risk of a single stock portfolio was 49.2% while adding the number of stocks in a well-balanced portfolio reduces the market risk to 19% (Modern Portfolio Theory and Investment Analysis)."
   ]
  },
  {
   "cell_type": "code",
   "execution_count": null,
   "metadata": {},
   "outputs": [],
   "source": [
    "#?? Does tot_frame have any uses here\n",
    "daily_frame = pd.DataFrame()\n",
    "for x in range(len(list_tuple)):\n",
    "    tot_frame = create_portfolio(list_tuple[x],100000*(5+list_of_weights[x]))"
   ]
  },
  {
   "cell_type": "code",
   "execution_count": null,
   "metadata": {
    "scrolled": true
   },
   "outputs": [],
   "source": [
    "# Create an empty DataFrame to obtain daily returns\n",
    "daily_frame = pd.DataFrame()\n",
    "\n",
    "# For loop that iterates to concatenate the current DataFrame with new portfolio values\n",
    "for x in range(len(list_tuple)):\n",
    "    daily_frame = pd.concat([daily_frame, create_portfolio(list_tuple[x],list_of_weights[x])],join='outer',axis=1)\n",
    "\n",
    "# Drop N/A occurrences in the DataFrame\n",
    "daily_frame.dropna(inplace=True)\n",
    "\n",
    "# Create a new column for the Portfolio's Balance\n",
    "daily_frame['Balance'] = daily_frame.sum(axis=1)\n",
    "\n",
    "# Create a new column for the Portfolio's Daily Returns\n",
    "daily_frame['Daily Returns']= daily_frame['Balance'].pct_change()* 100\n",
    "daily_frame.head()"
   ]
  },
  {
   "cell_type": "code",
   "execution_count": null,
   "metadata": {},
   "outputs": [],
   "source": [
    "daily_frame.tail()"
   ]
  },
  {
   "cell_type": "code",
   "execution_count": null,
   "metadata": {},
   "outputs": [],
   "source": [
    "plt.plot(daily_frame.index,daily_frame['Daily Returns'], ls='-', color='b', label = \"Total Portfolio\")\n",
    "plt.axhline(y=0,color='r',linestyle='-')\n",
    "## Define the title\n",
    "plt.title('Daily Returns of the Entire Portfolio')\n",
    "## Formatting\n",
    "plt.xlabel('Date')\n",
    "plt.ylabel('Value')\n",
    "plt.xticks(rotation=50)\n",
    "# Create legend\n",
    "plt.legend(loc='best')\n",
    "## Display the graph\n",
    "plt.show()"
   ]
  },
  {
   "cell_type": "code",
   "execution_count": null,
   "metadata": {
    "scrolled": true
   },
   "outputs": [],
   "source": [
    "plt.plot(daily_frame.index,daily_frame['Balance'], ls='-', color='b', label = \"Total Portfolio\")\n",
    "plt.axhline(y=100000,color='r',linestyle='-')\n",
    "## Define the title\n",
    "plt.title('Total Value of the Entire Portfolio')\n",
    "## Formatting\n",
    "plt.xlabel('Date')\n",
    "plt.ylabel('Value')\n",
    "plt.xticks(rotation=50)\n",
    "# Create legend\n",
    "plt.legend(loc='best')\n",
    "## Display the graph\n",
    "plt.show()"
   ]
  },
  {
   "cell_type": "code",
   "execution_count": null,
   "metadata": {},
   "outputs": [],
   "source": [
    "# Function that returns a DataFrame containing the Ticker name, Close Price,\n",
    "# number of shares, value of the stock, and the weight\n",
    "def purchase_shares_current_day(pair_list,weights):\n",
    "    ticker_frame = []\n",
    "    \n",
    "    # For loop that iterates to append stock name, close price, number of shares, value of the stock\n",
    "    # and the weight to the DataFrame\n",
    "    for x in range (len(pair_list)):\n",
    "        temp_tick = yf.Ticker(pair_list[x])\n",
    "        temp_hist = temp_tick.history(start=purchase_int,end=purchase_fin)\n",
    "        temp_close = temp_hist['Close'].iloc[0]\n",
    "        temp_percentage = (1/len(pair_list))*(weights+5)\n",
    "        shares = (((temp_percentage/100)*100000)/temp_close)\n",
    "        value = ((temp_percentage/100)*100000)\n",
    "        ticker_frame.append((pair_list[x],temp_close,shares,value,temp_percentage))\n",
    "    return ticker_frame\n",
    "\n",
    "purchase_int = '2021-10-26'\n",
    "purchase_fin = '2021-10-27'\n",
    "FinalList = []\n",
    "# For loop that iterates to obtain ticker name, close price, number of shares,\n",
    "# value of the stock and the weight for the list of stocks\n",
    "for x in range(len(list_tuple)):\n",
    "    FinalList += purchase_shares_current_day(list_tuple[x],list_of_weights[x])\n",
    "# Turn the array into a DataFrame\n",
    "FinalPortfolio = pd.DataFrame(FinalList)\n",
    "# Reset column names\n",
    "FinalPortfolio.columns = ['Ticker','Price','Shares','Value','Weight']\n",
    "FinalPortfolio.index+=1\n",
    "print(FinalPortfolio['Value'].sum(axis=0))\n",
    "print(FinalPortfolio['Weight'].sum(axis=0))\n",
    "FinalPortfolio.head(25)"
   ]
  },
  {
   "cell_type": "code",
   "execution_count": null,
   "metadata": {},
   "outputs": [],
   "source": [
    "# Create a DataFrame that contains the Portfolio's Ticker Names\n",
    "Stocks = pd.DataFrame(FinalPortfolio['Ticker'])\n",
    "\n",
    "# Create a column for the number of shares for each stock\n",
    "Stocks['Shares'] = FinalPortfolio['Shares']\n",
    "Stocks.head(25)"
   ]
  },
  {
   "cell_type": "code",
   "execution_count": null,
   "metadata": {},
   "outputs": [],
   "source": [
    "# Export the Stocks DataFrame to CSV File\n",
    "Stocks.to_csv(r'C:Stocks_Group_15.csv', index = False)"
   ]
  },
  {
   "cell_type": "markdown",
   "metadata": {},
   "source": [
    "## Contribution Declaration\n",
    "\n",
    "The following team members made a meaningful contribution to this assignment:\n",
    "\n",
    "Daniel, Eric, Jodie"
   ]
  }
 ],
 "metadata": {
  "kernelspec": {
   "display_name": "venv",
   "language": "python",
   "name": "venv"
  },
  "language_info": {
   "codemirror_mode": {
    "name": "ipython",
    "version": 3
   },
   "file_extension": ".py",
   "mimetype": "text/x-python",
   "name": "python",
   "nbconvert_exporter": "python",
   "pygments_lexer": "ipython3",
   "version": "3.9.6"
  }
 },
 "nbformat": 4,
 "nbformat_minor": 4
}
