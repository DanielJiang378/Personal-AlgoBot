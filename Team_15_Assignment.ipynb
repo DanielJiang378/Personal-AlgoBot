{
 "cells": [
  {
   "cell_type": "code",
   "execution_count": 21,
   "metadata": {},
   "outputs": [],
   "source": [
    "from IPython.display import display, Math, Latex\n",
    "\n",
    "import pandas as pd\n",
    "import numpy as np\n",
    "import numpy_financial as npf\n",
    "import yfinance as yf\n",
    "import matplotlib.pyplot as plt\n",
    "from datetime import datetime"
   ]
  },
  {
   "cell_type": "markdown",
   "metadata": {},
   "source": [
    "## Group Assignment\n",
    "### Team Number: XX\n",
    "### Team Member Names:\n",
    "### Team Strategy Chosen: __________(RISKY OR SAFE)"
   ]
  },
  {
   "cell_type": "code",
   "execution_count": null,
   "metadata": {},
   "outputs": [],
   "source": [
    "## Assign csv data to a variable\n",
    "col_names=['AAPL']\n",
    "tick_data = pd.read_csv(\"Tickers.csv\", usecols=col_names)\n",
    "print(tick_data['AAPL'])"
   ]
  },
  {
   "cell_type": "code",
   "execution_count": 48,
   "metadata": {},
   "outputs": [
    {
     "name": "stdout",
     "output_type": "stream",
     "text": [
      "0     ABBV\n",
      "1      ABT\n",
      "2      ACN\n",
      "3      AGN\n",
      "4      AIG\n",
      "      ... \n",
      "56     TXN\n",
      "57     UNH\n",
      "58     UNP\n",
      "59     UPS\n",
      "60     USB\n",
      "Name: AAPL, Length: 61, dtype: object\n"
     ]
    }
   ],
   "source": [
    "## Assign csv data to a variable\n",
    "col_names=['Ticker']\n",
    "tick_data = pd.read_csv(\"Tickers.csv\", names=col_names, header=None)"
   ]
  },
  {
   "cell_type": "code",
   "execution_count": 72,
   "metadata": {},
   "outputs": [
    {
     "name": "stdout",
     "output_type": "stream",
     "text": [
      "- AGN: No data found, symbol may be delisted\n",
      "- CELG: No data found, symbol may be delisted\n",
      "- PCLN: No data found for this date range, symbol may be delisted\n",
      "- RTN: No data found, symbol may be delisted\n",
      "- TWX: No data found for this date range, symbol may be delisted\n"
     ]
    },
    {
     "data": {
      "text/html": [
       "<div>\n",
       "<style scoped>\n",
       "    .dataframe tbody tr th:only-of-type {\n",
       "        vertical-align: middle;\n",
       "    }\n",
       "\n",
       "    .dataframe tbody tr th {\n",
       "        vertical-align: top;\n",
       "    }\n",
       "\n",
       "    .dataframe thead th {\n",
       "        text-align: right;\n",
       "    }\n",
       "</style>\n",
       "<table border=\"1\" class=\"dataframe\">\n",
       "  <thead>\n",
       "    <tr style=\"text-align: right;\">\n",
       "      <th></th>\n",
       "      <th>0</th>\n",
       "    </tr>\n",
       "  </thead>\n",
       "  <tbody>\n",
       "    <tr>\n",
       "      <th>0</th>\n",
       "      <td>ABBV</td>\n",
       "    </tr>\n",
       "    <tr>\n",
       "      <th>1</th>\n",
       "      <td>ABT</td>\n",
       "    </tr>\n",
       "    <tr>\n",
       "      <th>2</th>\n",
       "      <td>ACN</td>\n",
       "    </tr>\n",
       "    <tr>\n",
       "      <th>3</th>\n",
       "      <td>AIG</td>\n",
       "    </tr>\n",
       "    <tr>\n",
       "      <th>4</th>\n",
       "      <td>AMZN</td>\n",
       "    </tr>\n",
       "  </tbody>\n",
       "</table>\n",
       "</div>"
      ],
      "text/plain": [
       "      0\n",
       "0  ABBV\n",
       "1   ABT\n",
       "2   ACN\n",
       "3   AIG\n",
       "4  AMZN"
      ]
     },
     "execution_count": 72,
     "metadata": {},
     "output_type": "execute_result"
    }
   ],
   "source": [
    "# Remove delisted tickers \n",
    "remove_delisted = []\n",
    "\n",
    "for x in range(len(tick_data.index)):\n",
    "    tick = yf.Ticker(tick_data['AAPL'].iloc[x])\n",
    "    hist = tick.history()\n",
    "    if hist.empty == False :\n",
    "        remove_delisted.append(tick_data['AAPL'].iloc[x])\n",
    "        \n",
    "remove_delisted = list(dict.fromkeys(delisted_tickers))\n",
    "tickers = pd.DataFrame(delisted_tickers)\n",
    "tickers.head()"
   ]
  },
  {
   "cell_type": "code",
   "execution_count": null,
   "metadata": {
    "scrolled": true
   },
   "outputs": [],
   "source": [
    "temp_list = []\n",
    "tick_list = []\n",
    "for x in range(0, len(tickers.index)):\n",
    "    tick = yf.Ticker(tickers.iloc[x][0])\n",
    "    info = tick.info\n",
    "    data = pd.DataFrame(info.keys())\n",
    "    data.columns = ['Value']\n",
    "    if data[data.Value == 'country'].empty == False :\n",
    "        temp_list.append(tick_data['AAPL'].iloc[x])\n",
    "print(temp_list)\n",
    "\n",
    "start_date = '2021-07-02'\n",
    "end_date = '2021-10-22'\n",
    "for x in range(len(tick_list.index)):\n",
    "    tick = yf.Ticker(tick_list[x])\n",
    "    tick_hist = tick.history(start=start_date, end=end_date)\n",
    "    avg_volume = tick_hist['Volume'].sum(axis = 0, skipna = True)/ len(tick_hist.index)\n",
    "    if avg_volume >= 10000:\n",
    "        tick_list.append(tick)\n",
    "        \n",
    "print(tick_list)"
   ]
  },
  {
   "cell_type": "code",
   "execution_count": null,
   "metadata": {},
   "outputs": [],
   "source": [
    "for x in range (len(tick_list)):\n",
    "    tick = yf.Ticker(tick_data['Ticker'].iloc[x])\n",
    "    "
   ]
  },
  {
   "cell_type": "markdown",
   "metadata": {},
   "source": [
    "## Contribution Declaration\n",
    "\n",
    "The following team members made a meaningful contribution to this assignment:\n",
    "\n",
    "Insert Names Here."
   ]
  }
 ],
 "metadata": {
  "kernelspec": {
   "display_name": "Python 3",
   "language": "python",
   "name": "python3"
  },
  "language_info": {
   "codemirror_mode": {
    "name": "ipython",
    "version": 3
   },
   "file_extension": ".py",
   "mimetype": "text/x-python",
   "name": "python",
   "nbconvert_exporter": "python",
   "pygments_lexer": "ipython3",
   "version": "3.8.8"
  }
 },
 "nbformat": 4,
 "nbformat_minor": 4
}
