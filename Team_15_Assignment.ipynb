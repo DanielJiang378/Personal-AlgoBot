{
 "cells": [
  {
   "cell_type": "code",
   "execution_count": 1,
   "metadata": {},
   "outputs": [],
   "source": [
    "from IPython.display import display, Math, Latex\n",
    "\n",
    "import pandas as pd\n",
    "import numpy as np\n",
    "import numpy_financial as npf\n",
    "import yfinance as yf\n",
    "import matplotlib.pyplot as plt\n",
    "from datetime import datetime\n",
    "import concurrent.futures\n",
    "import time\n",
    "import random"
   ]
  },
  {
   "cell_type": "markdown",
   "metadata": {},
   "source": [
    "## Group Assignment\n",
    "### Team Number: 15\n",
    "### Team Member Names: Daniel Eric Jodie\n",
    "### Team Strategy Chosen: SAFE"
   ]
  },
  {
   "cell_type": "code",
   "execution_count": null,
   "metadata": {
    "scrolled": true
   },
   "outputs": [
    {
     "name": "stdout",
     "output_type": "stream",
     "text": [
      "- AGN: No data found, symbol may be delisted\n"
     ]
    }
   ],
   "source": [
    "##bing s\n",
    "start = time.perf_counter()\n",
    "def get_info(stock):\n",
    "    temp_frame=pd.DataFrame()\n",
    "    tick = yf.Ticker(stock)\n",
    "    tick_hist = tick.history(start=start_date,end=end_date)\n",
    "    if len(tick_hist.index) != 0:\n",
    "        tick_info = tick.info\n",
    "        if tick_info['currency'] == 'USD':\n",
    "            if tick_hist['Volume'].mean()>= 10000:\n",
    "                for need in hist_need:\n",
    "                    temp_frame[need+' of '+stock]=tick_hist[need]\n",
    "                return (temp_frame,stock, tick_info['sector'])\n",
    "    return pd.DataFrame(),'',''\n",
    "start_date = '2021-07-02'\n",
    "end_date = '2021-10-22'\n",
    "hist_data = pd.DataFrame()\n",
    "clean_stocks = []\n",
    "industry_list = []\n",
    "hist_need = ['Open','High','Low','Close','Volume']\n",
    "tick_data = pd.read_csv(\"Tickers.csv\",names=[\"Tickers\"])\n",
    "#with concurrent.futures.ThreadPoolExecutor() as executor:\n",
    "list_tick = []\n",
    "for x in range(len(tick_data.index)):\n",
    "    list_tick.append(tick_data['Tickers'].iloc[x])\n",
    "with concurrent.futures.ThreadPoolExecutor() as executor:\n",
    "    results = executor.map(get_info, list_tick)\n",
    "    for result in results:\n",
    "        hist_data = pd.concat([hist_data,result[0]],join='outer',axis=1)\n",
    "        clean_stocks.append(result[1])\n",
    "        industry_list.append(result[2])\n",
    "while True:\n",
    "    if \"\" not in clean_stocks:\n",
    "        break\n",
    "    else:\n",
    "        industry_list.remove(\"\")\n",
    "        clean_stocks.remove(\"\")\n",
    "finish = time.perf_counter()\n",
    "print(f'Finished in {round(finish-start,2)} seconds(s)')\n",
    "hist_data.dropna(inplace=True)\n",
    "hist_data.head()"
   ]
  },
  {
   "cell_type": "code",
   "execution_count": null,
   "metadata": {},
   "outputs": [],
   "source": [
    "def get_daily_returns(list_of_stock):\n",
    "    daily_returns = pd.DataFrame()\n",
    "    for stock in list_of_stock:\n",
    "        daily_returns['Daily Returns of '+stock] = hist_data['Close of '+stock].pct_change()*100\n",
    "    daily_returns.dropna(inplace=True)\n",
    "    return daily_returns\n",
    "\n",
    "def get_beta_total(list_of_stock):\n",
    "    tot = 0\n",
    "    for x in range (len(list_of_stock)):\n",
    "        tot+= beta_vals['Daily Returns of '+list_of_stock[x]]\n",
    "    return (tot/len(list_of_stock)).iloc[0]\n",
    "\n",
    "def get_average_std(list_of_stock):\n",
    "    tot = 0\n",
    "    for x in range (len(list_of_stock)):\n",
    "        tot+= daily_returns['Daily Returns of '+list_of_stock[x]].std(axis=0,skipna=True)\n",
    "    return (tot/len(list_of_stock))\n",
    "\n",
    "def get_alpha(list_of_stock):\n",
    "    # Get the current beta column\n",
    "    column_counter = 1\n",
    "    alpha = pd.DataFrame()\n",
    "    for stock in list_of_stock:\n",
    "        alpha['Alpha '+stock] = daily_returns['Daily Returns of '+stock] - ((daily_returns['Daily Returns of '+stock].mean()) * beta_vals.iloc[0, column_counter])\n",
    "        column_counter += 1\n",
    "    return alpha\n",
    "\n",
    "# MDD Equation: (Peak Value - Trough Value) / Peak Value\n",
    "def get_mdd(list_of_stock):\n",
    "    mdd = []\n",
    "    for x in range (len(list_of_stock)):\n",
    "        trough = min(hist_data['Low of '+list_of_stock[x]])\n",
    "        peak = max(hist_data['High of '+list_of_stock[x]])\n",
    "        mdd.append((((peak - trough) / peak)))\n",
    "    return mdd"
   ]
  },
  {
   "cell_type": "code",
   "execution_count": null,
   "metadata": {},
   "outputs": [],
   "source": [
    "daily_returns = get_daily_returns(clean_stocks)\n",
    "daily_returns.head()"
   ]
  },
  {
   "cell_type": "code",
   "execution_count": null,
   "metadata": {},
   "outputs": [],
   "source": [
    "beta_data = pd.DataFrame()\n",
    "MarketIndex='^GSPC'\n",
    "marketing_tick = yf.Ticker(MarketIndex)\n",
    "marketing_hist = marketing_tick.history(start=start_date,end=end_date)\n",
    "beta_data[MarketIndex] = marketing_hist['Close'].pct_change()*100\n",
    "beta_data = pd.concat([beta_data, daily_returns],join='inner',axis=1)\n",
    "MarketVar= beta_data['^GSPC'].var()\n",
    "Beta = pd.DataFrame(beta_data.cov() / MarketVar)\n",
    "beta_vals = pd.DataFrame(Beta.iloc[[0]])\n",
    "beta_vals.rename(index={'^GSPC': 'Beta'})\n",
    "beta_vals.head()"
   ]
  },
  {
   "cell_type": "markdown",
   "metadata": {},
   "source": [
    "We used beta to measure the systematic risk (ie. volatility) of our portfolio value. The beta coefficient measures the volatility of an individual stock relative to the entire market’s systematic risk. This is effective in displaying the activity of a stock’s returns in reaction to rises and dips in the market. As such, it allows us to determine how risky a stock is in comparison to the rest of the market. With our portfolio’s safe strategy, we look for stocks with beta coefficients as close to 0 as possible. A beta coefficient close to 0 deduces that such stocks deviate very little from the market trends and thus, does not add much risk to the portfolio. The stocks that we look to invest in have low monthly returns which means that there is less at stakes. With low-risk investing, targeting stocks with low monthly returns means that we are protected against any possible loss.  \n",
    "\n",
    "An assumption made of the beta coefficient theory is that the stock returns are normally distributed. However, financial markets are susceptible to unavoidable shock events. As a matter of fact, returns are rarely normally distributed. Thus, the beta coefficient of a stock may be inaccurate when predicting its future movement. For instance, a stock has small price swings (low std) but is in a long-term downward trend. Thus, though the stock is determined as low risk by the beta coefficient, the potential for losses is, in contrary, relatively high. \n",
    "\n",
    "Furthermore, a limitation of using beta is that it is mostly accurate and effective in determining short-term risk. Since we calculate beta solely using historical closing prices, it is not as practical in aims of predicting the stock’s future movement. However, \n",
    "since the time interval is only 3 months, we concluded that beta is, nevertheless, useful in calculating a stock’s volatility.\n"
   ]
  },
  {
   "cell_type": "code",
   "execution_count": null,
   "metadata": {},
   "outputs": [],
   "source": [
    "alpha = pd.DataFrame()\n",
    "for stock in clean_stocks:\n",
    "    alpha['Alpha '+stock] = daily_returns['Daily Returns of '+stock] - ((daily_returns['Daily Returns of '+stock].mean()) * beta_vals['Daily Returns of '+stock].iloc[0])\n",
    "alpha.head()"
   ]
  },
  {
   "cell_type": "code",
   "execution_count": null,
   "metadata": {},
   "outputs": [],
   "source": [
    "start = time.perf_counter()\n",
    "tech_list = []\n",
    "health_list = []\n",
    "industrial_list = []\n",
    "finance_list = []\n",
    "defensive_list = []\n",
    "cyclical_list = []\n",
    "real_estate_list = []\n",
    "energy_list = []\n",
    "materials_list = []\n",
    "communication_list = []\n",
    "utilities_list = []\n",
    "\n",
    "for (industry,stock) in zip(industry_list,clean_stocks):\n",
    "    if industry == \"Technology\":\n",
    "        tech_list.append((daily_returns['Daily Returns of '+stock].std(axis=0,skipna=True),stock))\n",
    "    if industry == \"Healthcare\":\n",
    "        health_list.append((daily_returns['Daily Returns of '+stock].std(axis=0,skipna=True),stock))\n",
    "    if industry == \"Industrials\":\n",
    "        industrial_list.append((daily_returns['Daily Returns of '+stock].std(axis=0,skipna=True),stock))\n",
    "    if industry == \"Financial Services\":\n",
    "        finance_list.append((daily_returns['Daily Returns of '+stock].std(axis=0,skipna=True),stock))\n",
    "    if industry == \"Consumer Defensive\":\n",
    "        defensive_list.append((daily_returns['Daily Returns of '+stock].std(axis=0,skipna=True),stock))\n",
    "    if industry == \"Consumer Cyclical\":\n",
    "        cyclical_list.append((daily_returns['Daily Returns of '+stock].std(axis=0,skipna=True),stock))\n",
    "    if industry == \"Real Estate\":\n",
    "        real_estate_list.append((daily_returns['Daily Returns of '+stock].std(axis=0,skipna=True),stock))\n",
    "    if industry == \"Energy\":\n",
    "        energy_list.append((daily_returns['Daily Returns of '+stock].std(axis=0,skipna=True),stock))\n",
    "    if industry == \"Basic Materials\":\n",
    "        materials_list.append((daily_returns['Daily Returns of '+stock].std(axis=0,skipna=True),stock))\n",
    "    if industry == \"Communication Services\":\n",
    "        communication_list.append((daily_returns['Daily Returns of '+stock].std(axis=0,skipna=True),stock))\n",
    "    if industry == \"Utilities\":\n",
    "        utilities_list.append((daily_returns['Daily Returns of '+stock].std(axis=0,skipna=True),stock))\n",
    "list_of_industries = [tech_list,health_list,industrial_list,finance_list,defensive_list,cyclical_list,real_estate_list,energy_list,materials_list,communication_list,utilities_list]\n",
    "\n",
    "finish = time.perf_counter()\n",
    "print(f'Finished in {round(finish-start,2)} seconds(s)')"
   ]
  },
  {
   "cell_type": "code",
   "execution_count": null,
   "metadata": {},
   "outputs": [],
   "source": [
    "tech_list.sort()\n",
    "health_list.sort()\n",
    "industrial_list.sort()\n",
    "finance_list.sort()\n",
    "defensive_list.sort()\n",
    "cyclical_list.sort()\n",
    "real_estate_list.sort()\n",
    "energy_list.sort()\n",
    "materials_list.sort()\n",
    "communication_list.sort()\n",
    "utilities_list.sort()"
   ]
  },
  {
   "cell_type": "code",
   "execution_count": null,
   "metadata": {},
   "outputs": [],
   "source": [
    "total_list = []\n",
    "if len(tech_list)!=0:\n",
    "    total_list.append(tech_list[0][1])\n",
    "    \n",
    "if len(health_list)!=0:\n",
    "    total_list.append(health_list[0][1])\n",
    "    \n",
    "if len(industrial_list)!=0:\n",
    "    total_list.append(industrial_list[0][1])\n",
    "    \n",
    "if len(finance_list)!=0:\n",
    "    total_list.append(finance_list[0][1])\n",
    "    \n",
    "if len(defensive_list)!=0:\n",
    "    total_list.append(defensive_list[0][1])\n",
    "    \n",
    "if len(cyclical_list)!=0:\n",
    "    total_list.append(cyclical_list[0][1])\n",
    "    \n",
    "if len(real_estate_list)!=0:\n",
    "    total_list.append(real_estate_list[0][1])\n",
    "    \n",
    "if len(energy_list)!=0:\n",
    "    total_list.append(energy_list[0][1])\n",
    "    \n",
    "if len(materials_list)!=0:\n",
    "    total_list.append(materials_list[0][1])\n",
    "    \n",
    "if len(communication_list)!=0:\n",
    "    total_list.append(communication_list[0][1])\n",
    "    \n",
    "if len(utilities_list)!=0:\n",
    "    total_list.append(utilities_list[0][1])\n",
    "    "
   ]
  },
  {
   "cell_type": "code",
   "execution_count": null,
   "metadata": {},
   "outputs": [],
   "source": [
    "total_list "
   ]
  },
  {
   "cell_type": "code",
   "execution_count": null,
   "metadata": {},
   "outputs": [],
   "source": [
    "alpha_mean = []\n",
    "alpha = get_alpha(total_list)\n",
    "alpha.head()"
   ]
  },
  {
   "cell_type": "markdown",
   "metadata": {},
   "source": [
    "Alpha is used to measure the daily stock return in comparison to the market index that it is compared against. The number output represents a percentage above or below the benchmark index. note that alpha is calculated using historical closing prices so it does not indicate any future trends. "
   ]
  },
  {
   "cell_type": "code",
   "execution_count": null,
   "metadata": {},
   "outputs": [],
   "source": [
    "mdd = get_mdd(total_list)\n",
    "mdd"
   ]
  },
  {
   "cell_type": "markdown",
   "metadata": {},
   "source": [
    "Maximum Drawdown (MDD) was used to measure the maximum historical loss and to analyze the downside risk over our 3 month interval. This is used to analyze our stock weighting strategy relative to other weightings, which is one of our primary concerns. For instance, two different portfolio weightings can output the same volatility and performance on average but their maximum drawdowns would be different. This is how we distinguish between a stock with low volatility, consistent average performance, but high maximum drawdown with low volatility, consistent average performance, and low maximum drawdown. As such, low maximum drawdown is always preferred since this deduces that there were minimal losses from the investment. In the case that a maximum drawdown is zero, this would indicate that the stock never lost any money. A stock with 0 maximum drawdown is what we aim to weigh the highest since it entails the least loss. \n",
    "\n",
    "Furthermore, in diversifying our portfolio, drawdown risk is reduced; this is because different industry market conditions impact different stocks in different ways. As we explored in Assignment 4, when investing all stocks in the same industry, assets are at a  greater risk of loss. This is why inter-industry investments are a large factor of our safe strategy. by investing in other industries, each stock will react differently to the same market event. For instance, when the market of one industry is growing, the stocks of that industry tend to outperform stocks from other industries. On the contrary, when the market for one industry starts to slow down, stocks from other industries start outperforming this industry’s stocks. as such, by holding inter-industry investments, we are minimizing the fluctuation of our overall portfolio when the market swings one way of another.  \n",
    "\n",
    "Note that some investors use the equation: (Trough - Peak) / Peak to calculate maximum drawdown (which will entail a negative value). However, since our sole purpose of measuring maximum drawdown is to find the greatest movement from a high point to a low point, we use (Peak - Trough) / Peak ; this is essentially the same as the absolute value of (Trough-Peak)/ Peak. \n",
    "\n",
    "However, one limitation of using maximum drawdown is that it does not indicate how long it took for the stock to recover from the loss, or if the investment ever recovers. Additionally, since maximum drawdown only measures the largest drawdown, other smaller periods are ignored— this may cause an inaccurate interpretation of the stock. \n",
    "\n",
    "Nevertheless, since our main focus in calculating maximum drawdown is to see the largest deviation between the highest point and the lowest point of the stock, smaller periods of loss/gains are insignificant for our analysis. \n"
   ]
  },
  {
   "cell_type": "code",
   "execution_count": null,
   "metadata": {},
   "outputs": [],
   "source": [
    "for x in range (len(total_list)):\n",
    "    clean_stocks.remove(total_list[x])"
   ]
  },
  {
   "cell_type": "code",
   "execution_count": null,
   "metadata": {},
   "outputs": [],
   "source": [
    "total_list"
   ]
  },
  {
   "cell_type": "code",
   "execution_count": null,
   "metadata": {},
   "outputs": [],
   "source": [
    "list_of_beta = []\n",
    "for stock in clean_stocks:\n",
    "    list_of_beta.append((daily_returns['Daily Returns of '+stock].std(axis=0,skipna=True),beta_vals[\"Daily Returns of \"+stock].iloc[0],stock))\n",
    "list_of_beta.sort()\n",
    "list_of_beta"
   ]
  },
  {
   "cell_type": "code",
   "execution_count": null,
   "metadata": {},
   "outputs": [],
   "source": [
    "threshold = 0\n",
    "while threshold < len(clean_stocks):\n",
    "    if len(total_list) == 20:\n",
    "        break\n",
    "    beta_temp = get_beta_total(total_list)\n",
    "    std_temp = get_average_std(total_list)\n",
    "    beta_stock = list_of_beta[threshold][1]\n",
    "    std_stock = list_of_beta[threshold][0]\n",
    "    stock = list_of_beta[threshold][2]\n",
    "#    print(std_temp,std_stock)\n",
    "    if beta_stock <= beta_temp and std_stock < std_temp:\n",
    "        total_list.append(stock)\n",
    "        clean_stocks.remove(stock)\n",
    "        list_of_beta.pop(threshold)\n",
    "        threshold-=1\n",
    "    threshold+=1\n",
    "while len(total_list) != 20:\n",
    "    total_list.append(list_of_beta[0][2])\n",
    "    list_of_beta.pop(0)\n",
    "print(total_list)\n",
    "        "
   ]
  },
  {
   "cell_type": "code",
   "execution_count": null,
   "metadata": {},
   "outputs": [],
   "source": [
    "final_returns = get_daily_returns(total_list)\n",
    "final_returns.head()"
   ]
  },
  {
   "cell_type": "code",
   "execution_count": null,
   "metadata": {},
   "outputs": [],
   "source": [
    "correlation_values = pd.DataFrame(final_returns.corr())\n",
    "correlation_values.head()"
   ]
  },
  {
   "cell_type": "code",
   "execution_count": null,
   "metadata": {
    "scrolled": true
   },
   "outputs": [],
   "source": [
    "final_beta_std = []\n",
    "for stock in total_list:\n",
    "    final_beta_std.append((final_returns['Daily Returns of '+stock].std(axis=0,skipna=True),beta_vals[\"Daily Returns of \"+stock].iloc[0],stock))\n",
    "final_beta_std.sort()\n",
    "final_beta_std"
   ]
  },
  {
   "cell_type": "code",
   "execution_count": null,
   "metadata": {},
   "outputs": [],
   "source": [
    "print(get_average_std(total_list))\n",
    "print(get_beta_total(total_list))"
   ]
  },
  {
   "cell_type": "code",
   "execution_count": null,
   "metadata": {},
   "outputs": [],
   "source": [
    "list_of_beta = []\n",
    "for stock in clean_stocks:\n",
    "    list_of_beta.append((daily_returns['Daily Returns of '+stock].std(axis=0,skipna=True),beta_vals[\"Daily Returns of \"+stock].iloc[0],stock))\n",
    "list_of_beta.sort()"
   ]
  },
  {
   "cell_type": "code",
   "execution_count": null,
   "metadata": {},
   "outputs": [],
   "source": [
    "threshold = 0\n",
    "while threshold < len(clean_stocks):\n",
    "    if len(total_list) == 20:\n",
    "        break\n",
    "    beta_temp = get_beta_total(total_list)\n",
    "    std_temp = get_average_std(total_list)\n",
    "    beta_stock = list_of_beta[threshold][1]\n",
    "    std_stock = list_of_beta[threshold][0]\n",
    "    stock = list_of_beta[threshold][2]\n",
    "#    print(std_temp,std_stock)\n",
    "    if std_stock < std_temp:\n",
    "        if (beta_stock <= beta_temp and beta_temp >= 0) or (beta_stock >= beta_temp and beta_temp < 0):\n",
    "            total_list.append(stock)\n",
    "            clean_stocks.remove(stock)\n",
    "            list_of_beta.pop(threshold)\n",
    "            threshold-=1\n",
    "    threshold+=1\n",
    "counting = 0\n",
    "while len(total_list) != 20 or len(clean_stocks) ==0 :\n",
    "    total_list.append(list_of_beta[0][2])\n",
    "    list_of_beta.pop(0)\n",
    "print(total_list)"
   ]
  },
  {
   "cell_type": "code",
   "execution_count": null,
   "metadata": {},
   "outputs": [],
   "source": [
    "final_returns = get_daily_returns(total_list)\n",
    "final_returns.head()"
   ]
  },
  {
   "cell_type": "code",
   "execution_count": null,
   "metadata": {
    "scrolled": true
   },
   "outputs": [],
   "source": [
    "correlation_values = pd.DataFrame(final_returns.corr())\n",
    "correlation_values.head(25)"
   ]
  },
  {
   "cell_type": "code",
   "execution_count": null,
   "metadata": {},
   "outputs": [],
   "source": [
    "final_beta_std = []\n",
    "list_tuple = []\n",
    "for stock in total_list:\n",
    "    final_beta_std.append((final_returns['Daily Returns of '+stock].std(axis=0,skipna=True),beta_vals[\"Daily Returns of \"+stock].iloc[0],stock))\n",
    "final_beta_std.sort(reverse=True)"
   ]
  },
  {
   "cell_type": "code",
   "execution_count": null,
   "metadata": {
    "scrolled": true
   },
   "outputs": [],
   "source": [
    "final_beta_std"
   ]
  },
  {
   "cell_type": "code",
   "execution_count": null,
   "metadata": {},
   "outputs": [],
   "source": [
    "def find_lowest_corr(index,stock):\n",
    "    lowest_corr = 100\n",
    "    temp_stock = \"\"\n",
    "    for stk in sorted_list:\n",
    "        if stk != stock:\n",
    "            curr_corr = correlation_values['Daily Returns of '+stk].loc['Daily Returns of '+stock]\n",
    "            if curr_corr < lowest_corr:\n",
    "                lowest_corr = curr_corr\n",
    "                temp_stock = stk\n",
    "    sorted_list.remove(temp_stock)\n",
    "    sorted_list.remove(stock)\n",
    "    list_temp = [stock,temp_stock]\n",
    "    return list_temp\n",
    "iterates = len(final_beta_std) - 10\n",
    "sorted_list = []\n",
    "list_tuple = []\n",
    "for x in range (len(final_beta_std)):\n",
    "    sorted_list.append(final_beta_std[x][2])\n",
    "for x in range (iterates):\n",
    "    list_tuple.append(find_lowest_corr(x,sorted_list[0]))\n",
    "for x in range (len(sorted_list)-1,-1,-1):\n",
    "    list_tuple.append([sorted_list[x]])\n",
    "list_tuple"
   ]
  },
  {
   "cell_type": "code",
   "execution_count": null,
   "metadata": {},
   "outputs": [],
   "source": [
    "std_beta_tuple = []\n",
    "for lists in list_tuple:\n",
    "    std_beta_tuple.append((get_average_std(lists),get_beta_total(lists),lists))\n",
    "std_beta_tuple.sort()\n",
    "std_beta_tuple"
   ]
  },
  {
   "cell_type": "code",
   "execution_count": null,
   "metadata": {},
   "outputs": [],
   "source": [
    "def get_alpha_mean(stocks):\n",
    "    alpha_mean = []\n",
    "    for stock in stocks:\n",
    "        alpha_mean.append(alpha['Alpha '+stock].mean())\n",
    "    return alpha_mean"
   ]
  },
  {
   "cell_type": "code",
   "execution_count": null,
   "metadata": {
    "scrolled": true
   },
   "outputs": [],
   "source": [
    "# Update the alpha with newly added stocks\n",
    "alpha = get_alpha(total_list)\n",
    "alpha.head()"
   ]
  },
  {
   "cell_type": "code",
   "execution_count": null,
   "metadata": {},
   "outputs": [],
   "source": [
    "# Update the MDD with newly added stocks\n",
    "mdd = get_mdd(total_list)\n",
    "mdd"
   ]
  },
  {
   "cell_type": "code",
   "execution_count": null,
   "metadata": {},
   "outputs": [],
   "source": [
    "final_beta_std_dataframe = pd.DataFrame(final_beta_std)\n",
    "final_beta_std_dataframe.columns = ['Beta', 'Standard Deviation', 'Stock Names']\n",
    "\n",
    "final_beta_std_dataframe['Alpha'] = pd.DataFrame(get_alpha_mean(final_beta_std_dataframe['Stock Names'].tolist()))\n",
    "\n",
    "final_beta_std_dataframe['MDD'] = pd.DataFrame(get_mdd(final_beta_std_dataframe['Stock Names'].tolist()))\n",
    "final_beta_std_dataframe\n",
    "# Dynamic Function to Draw Graph\n",
    "\n",
    "plt.figure(figsize=(10, 10))\n",
    "\n",
    "# Define the function that draws the Graph\n",
    "def draw_graphs(df):\n",
    "    # Set the list of colours\n",
    "    colours = ['b', 'r', 'c', 'm']\n",
    "    colour_counter = 0\n",
    "    for column_name in (df.columns.tolist()):\n",
    "        if(column_name != 'Stock Names'):\n",
    "            plt.plot(df['Stock Names'], df[column_name], color = colours[colour_counter], label = (column_name))\n",
    "            colour_counter += 1\n",
    "\n",
    "    plt.legend(loc ='best')\n",
    "    plt.xlabel('Stock Names')\n",
    "    plt.xticks(rotation = 70)\n",
    "    plt.ylabel('Units')\n",
    "    plt.title('Beta In Relation With Standard Deviation, MDD, and Alpha')\n",
    "\n",
    "    # Display the graph\n",
    "    plt.show()\n",
    "\n",
    "draw_graphs(final_beta_std_dataframe)"
   ]
  },
  {
   "cell_type": "code",
   "execution_count": null,
   "metadata": {},
   "outputs": [],
   "source": [
    "def create_portfolio(stock_list,weight):\n",
    "    ticker_frame = pd.DataFrame()\n",
    "    for x in range (len(stock_list)):\n",
    "        ticker_frame = pd.concat([ticker_frame, pd.DataFrame((hist_data['Close of '+stock_list[x]]*(1/len(stock_list)*((weight+5)/100)*100000)/hist_data['Close of '+stock_list[x]].iloc[0])).rename(columns={'Close of '+stock_list[x]:'Value of '+stock_list[x]})], axis=1)\n",
    "    return ticker_frame\n",
    "def check_fifty(fifty_index,pair_list):\n",
    "    list_index =[]\n",
    "    temp_frame = pd.DataFrame()\n",
    "    temp_beta = pd.DataFrame()\n",
    "    temp_beta[MarketIndex] = marketing_hist['Close'].pct_change()*100\n",
    "    for x in range (len(pair_list)):\n",
    "        if fifty_index == x:\n",
    "            list_index.append(50)\n",
    "            temp_frame = pd.concat([temp_frame,create_portfolio(pair_list[x],50)],axis=1)\n",
    "        else:\n",
    "            list_index.append(0)\n",
    "            temp_frame = pd.concat([temp_frame,create_portfolio(pair_list[x],0)],axis=1)\n",
    "    temp_beta[MarketIndex] = marketing_hist['Close'].pct_change()*100\n",
    "    temp_frame['Balance'] = temp_frame.sum(axis=1)\n",
    "    temp_frame['Daily Returns'] = temp_frame['Balance'].pct_change()* 100\n",
    "    temp_beta = pd.concat([temp_beta, temp_frame['Daily Returns']],axis=1)\n",
    "    MarketVar= temp_beta['^GSPC'].var()\n",
    "    compare_market = pd.DataFrame(temp_beta.cov() / MarketVar)\n",
    "    beta_port = compare_market.iloc[0,1]\n",
    "    alpha_port = (temp_frame['Daily Returns'] - ((temp_frame['Daily Returns'].mean())* beta_port)).mean()\n",
    "    std_port =temp_frame['Daily Returns'].std(axis=0,skipna=True)\n",
    "    risk_value = alpha_port+std_port+beta_port\n",
    "    return (risk_value,list_index)\n",
    "def check_double(large_index,small_index,big,small,pair_list):\n",
    "    list_index =[]\n",
    "    temp_frame = pd.DataFrame()\n",
    "    temp_beta = pd.DataFrame()\n",
    "    temp_beta[MarketIndex] = marketing_hist['Close'].pct_change()*100\n",
    "    temp_frame = create_portfolio(pair_list[large_index],big)\n",
    "    for y in range (len(pair_list)):\n",
    "        if y != large_index:\n",
    "            if small_index == y:\n",
    "                list_index.append(small)\n",
    "                temp_frame = pd.concat([temp_frame,create_portfolio(pair_list[y],small)],axis=1)\n",
    "            else:\n",
    "                list_index.append(0)\n",
    "                temp_frame = pd.concat([temp_frame,create_portfolio(pair_list[y],0)],axis=1)\n",
    "        else:\n",
    "            list_index.append(big)\n",
    "    temp_frame['Balance'] = temp_frame.sum(axis=1)\n",
    "    temp_frame['Daily Returns'] = temp_frame['Balance'].pct_change()* 100\n",
    "    temp_beta = pd.concat([temp_beta, temp_frame['Daily Returns']],join='inner',axis=1)\n",
    "    MarketVar= temp_beta['^GSPC'].var()\n",
    "    compare_market = pd.DataFrame(temp_beta.cov() / MarketVar)\n",
    "    beta_port = compare_market.iloc[0,1]\n",
    "    alpha_port = (temp_frame['Daily Returns'] - ((temp_frame['Daily Returns'].mean())* beta_port)).mean()\n",
    "    std_port =temp_frame['Daily Returns'].std(axis=0,skipna=True)\n",
    "    risk_value = alpha_port+std_port+beta_port\n",
    "    return (risk_value,list_index)     \n",
    "def check_triple(first,second,third,single,double,pair_list):\n",
    "    list_index = []\n",
    "    temp_frame = pd.DataFrame()\n",
    "    temp_beta = pd.DataFrame()\n",
    "    temp_beta[MarketIndex] = marketing_hist['Close'].pct_change()*100\n",
    "    temp_frame = create_portfolio(pair_list[first],single)\n",
    "    for y in range (len(pair_list)):\n",
    "        if first!=y:\n",
    "            if second == y or third == y:\n",
    "                list_index.append(double)\n",
    "                temp_frame = pd.concat([temp_frame,create_portfolio(pair_list[y],double)],axis=1)\n",
    "            else:\n",
    "                list_index.append(0)\n",
    "                temp_frame = pd.concat([temp_frame,create_portfolio(pair_list[y],0)],axis=1)\n",
    "        else:\n",
    "            list_index.append(single)\n",
    "    temp_frame['Balance'] = temp_frame.sum(axis=1)\n",
    "    temp_frame['Daily Returns'] = temp_frame['Balance'].pct_change()* 100\n",
    "    temp_beta = pd.concat([temp_beta, temp_frame['Daily Returns']],join='inner',axis=1)\n",
    "    MarketVar= temp_beta['^GSPC'].var()\n",
    "    compare_market = pd.DataFrame(temp_beta.cov() / MarketVar)\n",
    "    beta_port = compare_market.iloc[0,1]\n",
    "    alpha_port = (temp_frame['Daily Returns'] - ((temp_frame['Daily Returns'].mean())* beta_port)).mean()\n",
    "    std_port =temp_frame['Daily Returns'].std(axis=0,skipna=True)\n",
    "    risk_value = alpha_port+std_port+beta_port\n",
    "    return (risk_value,list_index)     \n",
    "def check_quadruple(first,second,third,fourth,pair_list):\n",
    "    list_index =[]\n",
    "    temp_frame = pd.DataFrame()\n",
    "    temp_beta = pd.DataFrame()\n",
    "    temp_beta[MarketIndex] = marketing_hist['Close'].pct_change()*100\n",
    "    temp_frame = create_portfolio(pair_list[first],20)\n",
    "    for y in range (len(pair_list)):\n",
    "        if first != y:\n",
    "            if second == y or third == y or fourth == y:\n",
    "                list_index.append(10)\n",
    "                temp_frame = pd.concat([temp_frame,create_portfolio(pair_list[y],10)],axis=1)\n",
    "            else:\n",
    "                list_index.append(0)\n",
    "                temp_frame = pd.concat([temp_frame,create_portfolio(pair_list[y],0)],axis=1)\n",
    "        else:\n",
    "            list_index.append(20)\n",
    "    temp_frame['Balance'] = temp_frame.sum(axis=1)\n",
    "    temp_frame['Daily Returns'] = temp_frame['Balance'].pct_change()* 100\n",
    "    temp_beta = pd.concat([temp_beta, temp_frame['Daily Returns']],join='inner',axis=1)\n",
    "    MarketVar= temp_beta['^GSPC'].var()\n",
    "    compare_market = pd.DataFrame(temp_beta.cov() / MarketVar)\n",
    "    beta_port = compare_market.iloc[0,1]\n",
    "    alpha_port = (temp_frame['Daily Returns'] - ((temp_frame['Daily Returns'].mean())* beta_port)).mean()\n",
    "    std_port =temp_frame['Daily Returns'].std(axis=0,skipna=True)\n",
    "    risk_value = alpha_port+std_port+beta_port\n",
    "    return (risk_value,list_index)\n",
    "def check_all(pair_list):\n",
    "    list_index =[]\n",
    "    temp_frame = pd.DataFrame()\n",
    "    temp_beta = pd.DataFrame()\n",
    "    temp_beta[MarketIndex] = marketing_hist['Close'].pct_change()*100\n",
    "    for x in range(len(pair_list)):\n",
    "        list_index.append(10)\n",
    "        temp_frame = pd.concat([temp_frame,create_portfolio(pair_list[x],10)],axis=1)\n",
    "    temp_frame['Balance'] = temp_frame.sum(axis=1)\n",
    "    temp_frame['Daily Returns'] = temp_frame['Balance'].pct_change()* 100\n",
    "    temp_beta = pd.concat([temp_beta, temp_frame['Daily Returns']],join='inner',axis=1)\n",
    "    MarketVar= temp_beta['^GSPC'].var()\n",
    "    compare_market = pd.DataFrame(temp_beta.cov() / MarketVar)\n",
    "    beta_port = compare_market.iloc[0,1]\n",
    "    alpha_port = (temp_frame['Daily Returns'] - ((temp_frame['Daily Returns'].mean())* beta_port)).mean()\n",
    "    std_port =temp_frame['Daily Returns'].std(axis=0,skipna=True)\n",
    "    risk_value = alpha_port+std_port+beta_port\n",
    "    return (risk_value,list_index)"
   ]
  },
  {
   "cell_type": "code",
   "execution_count": null,
   "metadata": {},
   "outputs": [],
   "source": [
    "fifty = []\n",
    "fourty_ten = []\n",
    "thirty_twenty = []\n",
    "ten_twenty_twenty = []\n",
    "thirty_ten_ten = []\n",
    "ten_ten_ten_ten_twenty = []\n",
    "for x in range(len(list_tuple)):\n",
    "    fifty.append(check_fifty(x,list_tuple))\n",
    "    for y in range(len(list_tuple)):\n",
    "        if y != x:\n",
    "            fourty_ten.append(check_double(x,y,40,10,list_tuple))\n",
    "            thirty_twenty.append(check_double(x,y,30,20,list_tuple))\n",
    "            for z in range(len(list_tuple)):\n",
    "                if z > y and z != x:\n",
    "                    ten_twenty_twenty.append(check_triple(x,y,z,10,20,list_tuple))\n",
    "                    thirty_ten_ten.append(check_triple(x,y,z,30,10,list_tuple))\n",
    "                    for a in range(len(list_tuple)):\n",
    "                        if a > z and a != x:\n",
    "                            ten_ten_ten_ten_twenty.append(check_quadruple(x,y,z,a,list_tuple))"
   ]
  },
  {
   "cell_type": "code",
   "execution_count": null,
   "metadata": {},
   "outputs": [],
   "source": [
    "all_weights = fifty+fourty_ten+thirty_twenty+ten_twenty_twenty+thirty_ten_ten+ten_ten_ten_ten_twenty\n",
    "list_of_weights = min(all_weights)[1]\n",
    "list_of_weights"
   ]
  },
  {
   "cell_type": "code",
   "execution_count": null,
   "metadata": {},
   "outputs": [],
   "source": [
    "def purchase_shares(pair_list,weights):\n",
    "    ticker_frame = []\n",
    "    for x in range (len(pair_list)):\n",
    "        ticker_frame.append((pair_list[x],((1/len(pair_list)*((weights+5)/100)*100000)/hist_data['Close of '+pair_list[x]].iloc[0])))\n",
    "    return ticker_frame\n"
   ]
  },
  {
   "cell_type": "code",
   "execution_count": null,
   "metadata": {},
   "outputs": [],
   "source": [
    "FinalList = []\n",
    "for x in range(len(list_tuple)):\n",
    "    FinalList += purchase_shares(list_tuple[x],list_of_weights[x])\n",
    "#FinalPortfolio['Balance'] = FinalPortfolio.sum(axis=1)\n",
    "FinalPortfolio = pd.DataFrame(FinalList)\n",
    "FinalPortfolio.columns = ['Ticker','Shares']\n",
    "FinalPortfolio.index+=1"
   ]
  },
  {
   "cell_type": "code",
   "execution_count": null,
   "metadata": {},
   "outputs": [],
   "source": [
    "FinalPortfolio.head(25)"
   ]
  },
  {
   "cell_type": "code",
   "execution_count": null,
   "metadata": {},
   "outputs": [],
   "source": [
    "FinalPortfolio.to_csv(r'C:Stocks_Group_15.csv')"
   ]
  },
  {
   "cell_type": "markdown",
   "metadata": {},
   "source": [
    "## Contribution Declaration\n",
    "\n",
    "The following team members made a meaningful contribution to this assignment:\n",
    "\n",
    "Insert Names Here."
   ]
  }
 ],
 "metadata": {
  "kernelspec": {
   "display_name": "venv",
   "language": "python",
   "name": "venv"
  },
  "language_info": {
   "codemirror_mode": {
    "name": "ipython",
    "version": 3
   },
   "file_extension": ".py",
   "mimetype": "text/x-python",
   "name": "python",
   "nbconvert_exporter": "python",
   "pygments_lexer": "ipython3",
   "version": "3.9.6"
  }
 },
 "nbformat": 4,
 "nbformat_minor": 4
}
